{
  "nbformat": 4,
  "nbformat_minor": 0,
  "metadata": {
    "colab": {
      "provenance": []
    },
    "kernelspec": {
      "name": "python3",
      "display_name": "Python 3"
    }
  },
  "cells": [
    {
      "cell_type": "markdown",
      "metadata": {
        "id": "h4RmyJTL_gAH"
      },
      "source": [
        "# I. First part finding a good memory use. \n",
        "\n",
        "*how to choose the best one and why this choice made*\n",
        "\n",
        "\n",
        "two options : **loading the file** to memory or **reading file** as a stream. Which one would be the best to choose ? Why ? What can allow us to do with this choice ? "
      ]
    },
    {
      "cell_type": "markdown",
      "metadata": {
        "id": "5vtq9eLmAhSh"
      },
      "source": [
        "*First choice : Loading the file to memory*"
      ]
    },
    {
      "cell_type": "markdown",
      "metadata": {
        "id": "E9zVo4QOea67"
      },
      "source": [
        "* first, we generate the data files online \n"
      ]
    },
    {
      "cell_type": "code",
      "metadata": {
        "id": "eY7BjQcBbqw_",
        "colab": {
          "base_uri": "https://localhost:8080/",
          "height": 124
        },
        "outputId": "82d89e11-43e1-4e2a-dc6d-157ba9500f5e"
      },
      "source": [
        "# this little part is given by the teacher, we're going to annotate or comment\n",
        "# some lines in order to understand it better \n",
        "\n",
        "\n",
        "# first the importation : sys (paramètres et fonction propres à des systèmes) and numpy\n",
        "import sys\n",
        "import numpy as np\n",
        "\n",
        "filelist={\"A_dixmille.txt\":10000,\"B_centmille.txt\":100000,\"C_cinqcentmille.txt\":500000,\"D_unmillion.txt\":1000000}\n",
        "\n",
        "# this function is for seeding the generator \n",
        "# it is called when RandomState is initialized\n",
        "np.random.seed(42) # Common seed for comparison between every participants\n",
        "\n",
        "\n",
        "# this lines after the for allow us to open the file and .. \n",
        "for filename, dataSize in filelist.items():\n",
        "    f= open(filename,\"w\")\n",
        "    for i in range(0,dataSize):\n",
        "\t    f.write(\"%d\\r\\n\" % np.random.randint(-sys.maxsize-1,sys.maxsize))\n",
        "      # np.random.randint : return random integers from low(inclusive) to high(exclusive)\n",
        "    f.close\n",
        "\n",
        "!ls -lh # Printing the list of file available"
      ],
      "execution_count": null,
      "outputs": [
        {
          "output_type": "stream",
          "text": [
            "total 33M\n",
            "-rw-r--r-- 1 root root 209K Feb 22 10:36 A_dixmille.txt\n",
            "-rw-r--r-- 1 root root 2.1M Feb 22 10:36 B_centmille.txt\n",
            "-rw-r--r-- 1 root root  11M Feb 22 10:36 C_cinqcentmille.txt\n",
            "-rw-r--r-- 1 root root  21M Feb 22 10:36 D_unmillion.txt\n",
            "drwxr-xr-x 1 root root 4.0K Feb  5 18:37 sample_data\n"
          ],
          "name": "stdout"
        }
      ]
    },
    {
      "cell_type": "markdown",
      "metadata": {
        "id": "7KiQhTRZ4wVH"
      },
      "source": [
        "* here we want to print the maximum value of each files, for that we open each one and apply a filter of the maxuimum one \n",
        "\n",
        "*we load line by line and compare the value* "
      ]
    },
    {
      "cell_type": "code",
      "metadata": {
        "id": "Tp-3Za0BWfOc",
        "colab": {
          "base_uri": "https://localhost:8080/",
          "height": 88
        },
        "outputId": "30bbb672-f240-45eb-87b2-a1bf48d5f493"
      },
      "source": [
        "#This function read the file then seek the maximum value\n",
        "def filterMax(filename):\n",
        "    with open(filename,\"r\") as f: # Opening the file in reading mode\n",
        "        if f.mode == 'r': # If opening went well and the file is readable\n",
        "      #Initialisation of max search\n",
        "            first=True\n",
        "            max_value=0\n",
        "\n",
        "      # Loading the lines in an array, then running through the array\n",
        "            for line in f.readlines():\n",
        "                value = int(line) # String to int conversion\n",
        "                if first or max_value < value: # Seeking maximum value\n",
        "                    max_value=value\n",
        "                    first=False\n",
        "    return(max_value) # Printing the maximum value\n",
        "print(\"Display the maximum of the file \" +str(filterMax(\"A_dixmille.txt\")))\n",
        "print(\"Display the maximum of the file \" +str(filterMax(\"B_centmille.txt\")))\n",
        "print(\"Display the maximum of the file \" +str(filterMax(\"C_cinqcentmille.txt\")))\n",
        "print(\"Display the maximum of the file \" +str(filterMax(\"D_unmillion.txt\")))"
      ],
      "execution_count": null,
      "outputs": [
        {
          "output_type": "stream",
          "text": [
            "Display the maximum of the file 9218164057221768836\n",
            "Display the maximum of the file 9223225204532880781\n",
            "Display the maximum of the file 9223340876113130336\n",
            "Display the maximum of the file 9223360629790385418\n"
          ],
          "name": "stdout"
        }
      ]
    },
    {
      "cell_type": "markdown",
      "metadata": {
        "id": "oMbIrNVZ4M9L"
      },
      "source": [
        "* we re going to estimate the memory usage, for that we ll use the memory_profiler library and make a graph of the incrementation of the memory while the reading of the file and the function going on "
      ]
    },
    {
      "cell_type": "code",
      "metadata": {
        "id": "qLRa0G_85ZG2",
        "colab": {
          "base_uri": "https://localhost:8080/",
          "height": 384
        },
        "outputId": "77375221-1db2-4b46-b18b-144c8e00d8e1"
      },
      "source": [
        "!pip install -U memory_profiler # Install the needed library\n",
        "from memory_profiler import memory_usage #Import the library\n",
        "\n",
        "filelist={\"A_dixmille.txt\":10000,\"B_centmille.txt\":100000,\"C_cinqcentmille.txt\":500000,\"D_unmillion.txt\":1000000}\n",
        "sizeList=[]\n",
        "costList=[]\n",
        "\n",
        "# We will iterate on each file to find the complexity curve\n",
        "for filename,dataSize in filelist.items():\n",
        "  sizeList.append(dataSize)\n",
        "  mem_during_execution = memory_usage((filterMax,(filename,))) #memory_usage take the function name and its paramater(s). It return an array of memory size during execution\n",
        "  memory_increment = max(mem_during_execution)-min(mem_during_execution) #The memory used by the function\n",
        "  costList.append(memory_increment)\n",
        "\n",
        "print(sizeList)\n",
        "print(costList)\n",
        "\n",
        "#Let's plot things !\n",
        "import matplotlib\n",
        "import matplotlib.pyplot as plt\n",
        "\n",
        "# Data for plotting\n",
        "#sizeList and costList from above\n",
        "\n",
        "fig, ax = plt.subplots()\n",
        "ax.plot(sizeList, costList)\n",
        "\n",
        "ax.set(xlabel='input size', ylabel='MiB used',\n",
        "       title='Memory space complexity curve')\n",
        "ax.grid()\n",
        "\n",
        "plt.show()\n",
        "\n",
        "\n",
        "print('mememoty during execution = ', mem_during_execution); "
      ],
      "execution_count": null,
      "outputs": [
        {
          "output_type": "stream",
          "text": [
            "Requirement already up-to-date: memory_profiler in /usr/local/lib/python3.6/dist-packages (0.57.0)\n",
            "Requirement already satisfied, skipping upgrade: psutil in /usr/local/lib/python3.6/dist-packages (from memory_profiler) (5.4.8)\n",
            "[10000, 100000, 500000, 1000000]\n",
            "[0.49609375, 6.80859375, 34.8046875, 70.3515625]\n"
          ],
          "name": "stdout"
        },
        {
          "output_type": "display_data",
          "data": {
            "image/png": "[encoded data removed]",
            "text/plain": [
              "<Figure size 432x288 with 1 Axes>"
            ]
          },
          "metadata": {
            "tags": []
          }
        },
        {
          "output_type": "stream",
          "text": [
            "mememoty during execution =  [172.5703125, 172.5703125, 216.58984375, 242.921875, 242.921875, 242.921875, 173.33203125]\n"
          ],
          "name": "stdout"
        }
      ]
    },
    {
      "cell_type": "code",
      "metadata": {
        "id": "H7v82ht2BtoX",
        "colab": {
          "base_uri": "https://localhost:8080/",
          "height": 124
        },
        "outputId": "b572ec04-6c95-48a0-af96-262e39048bdf"
      },
      "source": [
        "%memit max_value = filterMax(\"B_centmille.txt\")\n",
        "print(max_value)\n",
        "%memit max_value = filterMax(\"C_cinqcentmille.txt\")\n",
        "print(max_value)\n",
        "%memit max_value = filterMax(\"D_unmillion.txt\")\n",
        "print(max_value)"
      ],
      "execution_count": null,
      "outputs": [
        {
          "output_type": "stream",
          "text": [
            "peak memory: 180.42 MiB, increment: 6.47 MiB\n",
            "9223225204532880781\n",
            "peak memory: 208.17 MiB, increment: 34.06 MiB\n",
            "9223340876113130336\n",
            "peak memory: 243.25 MiB, increment: 69.12 MiB\n",
            "9223360629790385418\n"
          ],
          "name": "stdout"
        }
      ]
    },
    {
      "cell_type": "markdown",
      "metadata": {
        "id": "osoTBdRfAvzk"
      },
      "source": [
        "*Second choice : Reading file as a stream (without loading it to memory)*"
      ]
    },
    {
      "cell_type": "code",
      "metadata": {
        "id": "SnV4dZmmA6oF"
      },
      "source": [
        "#This function read the file AS A STREAM seek the maximum value on the go\n",
        "def filterMaxByLine(filename):\n",
        "  with open(filename,\"r\") as f: # Opening the file in reading mode\n",
        "    if f.mode == 'r': # If opening went well and the file is readable\n",
        "      #Initialisation of max search\n",
        "      first=True\n",
        "      max_value=0\n",
        "\n",
        "      line = f.readline() # Loading the first line\n",
        "      while line: # While there is new line to be read\n",
        "        value = int(line) # String to int conversion\n",
        "        if first or max_value < value: # Seeking maximum value\n",
        "          max_value=value\n",
        "          first=False\n",
        "        line = f.readline() # Loading the next line\n",
        "    return(max_value) # Printing the maximum value"
      ],
      "execution_count": null,
      "outputs": []
    },
    {
      "cell_type": "code",
      "metadata": {
        "id": "h9OQ3bKaB0e6",
        "colab": {
          "base_uri": "https://localhost:8080/",
          "height": 159
        },
        "outputId": "42efca48-a8bf-4045-d2e0-04f000974afa"
      },
      "source": [
        "%load_ext memory_profiler\n",
        "%memit max_value = filterMaxByLine(\"B_centmille.txt\")\n",
        "print(max_value)\n",
        "%memit max_value = filterMaxByLine(\"C_cinqcentmille.txt\")\n",
        "print(max_value)\n",
        "%memit max_value = filterMaxByLine(\"D_unmillion.txt\")\n",
        "print(max_value)"
      ],
      "execution_count": null,
      "outputs": [
        {
          "output_type": "stream",
          "text": [
            "The memory_profiler extension is already loaded. To reload it, use:\n",
            "  %reload_ext memory_profiler\n",
            "peak memory: 174.13 MiB, increment: 0.00 MiB\n",
            "9223225204532880781\n",
            "peak memory: 174.13 MiB, increment: 0.00 MiB\n",
            "9223340876113130336\n",
            "peak memory: 174.13 MiB, increment: 0.00 MiB\n",
            "9223360629790385418\n"
          ],
          "name": "stdout"
        }
      ]
    },
    {
      "cell_type": "markdown",
      "metadata": {
        "id": "bRlQKNjRCAPl"
      },
      "source": [
        "Conclusion of the choice : \n",
        "\n",
        "we can compare the two ways of dealing with the memory \n",
        "we can choose the second one because loading a whole file can take some time and a lot of useless memory \n",
        "by reading line by line we can go faster and upload just the usefull data needed "
      ]
    },
    {
      "cell_type": "markdown",
      "metadata": {
        "id": "9AZPLt2R3zjv"
      },
      "source": [
        "## II. Function for A_dixmille.txt"
      ]
    },
    {
      "cell_type": "markdown",
      "metadata": {
        "id": "rOoOdLruF3FK"
      },
      "source": [
        "with this couple lines we take the first file of 10 thousand data and we read the file line by line and make a list of the 100th maximum values "
      ]
    },
    {
      "cell_type": "code",
      "metadata": {
        "id": "YGDDjcxZWpxh",
        "colab": {
          "base_uri": "https://localhost:8080/",
          "height": 134
        },
        "outputId": "3a62f249-97cb-46cf-91b8-f84a04f9b7a6"
      },
      "source": [
        "import random\n",
        "def filterByLine(file):\n",
        "# we open the file \n",
        "  filename = open(file,'r')\n",
        "  list = random.sample(range(0,100), 100) # random.sample returns a particular length list of items chosen from the sequence\n",
        "​\n",
        "​#we read the file line by line \n",
        "for line in filename.readline():\n",
        "    min_list_index = list.index(min(list))\n",
        "    if int(line) > min(list) :\n",
        "        list[min_list_index] = int(line)        \n",
        "​\n",
        "​\n",
        "print(\"The value max of the list \" + str(max(list)))\n",
        "print(list)\n",
        "    \n",
        "filterByLine(\"A_dixmille.txt\")"
      ],
      "execution_count": null,
      "outputs": [
        {
          "output_type": "error",
          "ename": "SyntaxError",
          "evalue": "ignored",
          "traceback": [
            "\u001b[0;36m  File \u001b[0;32m\"<ipython-input-19-82f0a3fb9c11>\"\u001b[0;36m, line \u001b[0;32m6\u001b[0m\n\u001b[0;31m    ​\u001b[0m\n\u001b[0m    ^\u001b[0m\n\u001b[0;31mSyntaxError\u001b[0m\u001b[0;31m:\u001b[0m invalid character in identifier\n"
          ]
        }
      ]
    },
    {
      "cell_type": "markdown",
      "metadata": {
        "id": "dUr4S7kwW-EY"
      },
      "source": [
        "*code for calculating the use of the memory for the previous function used*"
      ]
    },
    {
      "cell_type": "markdown",
      "metadata": {
        "id": "8GUddw3HbzyK"
      },
      "source": [
        "* calculation of the evolution of the memory used when we take the file of 10 thousand data "
      ]
    },
    {
      "cell_type": "code",
      "metadata": {
        "id": "_qP5t-O0XEBN",
        "colab": {
          "base_uri": "https://localhost:8080/",
          "height": 402
        },
        "outputId": "4d154d55-b087-43a5-e91e-7e1147931945"
      },
      "source": [
        "!pip install -U memory_profiler # Install the needed library\n",
        "from memory_profiler import memory_usage #Import the library\n",
        "\n",
        "filelist={\"A_dixmille.txt\":10000,\"B_centmille.txt\":100000,\"C_cinqcentmille.txt\":500000,\"D_unmillion.txt\":1000000}\n",
        "sizeList=[]\n",
        "costList=[]\n",
        "\n",
        "# We will iterate on each file to find the complexity curve\n",
        "for file,dataSize in filelist.items():\n",
        "    sizeList.append(dataSize)\n",
        "    mem_during_execution = memory_usage((filterMaxByLine,(file,))) #memory_usage take the function name and its paramater(s). It return an array of memory size during execution\n",
        "    memory_increment = max(mem_during_execution)-min(mem_during_execution) #The memory used by the function\n",
        "    costList.append(memory_increment)\n",
        "\n",
        "print(sizeList)\n",
        "print(costList)\n",
        "\n",
        "#Let's plot things !\n",
        "import matplotlib\n",
        "import matplotlib.pyplot as plt\n",
        "\n",
        "# Data for plotting\n",
        "#sizeList and costList from above\n",
        "filename= open(\"A_dixmille.txt\",\"r\")\n",
        "\n",
        "%memit max_value = filterMaxByLine(file)\n",
        "print(max_value)\n",
        "\n",
        "fig, ax = plt.subplots()\n",
        "ax.plot(sizeList, costList)\n",
        "\n",
        "ax.set(xlabel='input size', ylabel='MiB used',\n",
        "       title='Memory space complexity curve')\n",
        "ax.grid()\n",
        "\n",
        "plt.show()"
      ],
      "execution_count": null,
      "outputs": [
        {
          "output_type": "stream",
          "text": [
            "Requirement already up-to-date: memory_profiler in /usr/local/lib/python3.6/dist-packages (0.57.0)\n",
            "Requirement already satisfied, skipping upgrade: psutil in /usr/local/lib/python3.6/dist-packages (from memory_profiler) (5.4.8)\n",
            "[10000, 100000, 500000, 1000000]\n",
            "[0.0, 0.0, 0.0, 0.0]\n",
            "peak memory: 174.38 MiB, increment: 0.00 MiB\n",
            "9223360629790385418\n"
          ],
          "name": "stdout"
        },
        {
          "output_type": "display_data",
          "data": {
            "image/png": "[encoded data removed]",
            "text/plain": [
              "<Figure size 432x288 with 1 Axes>"
            ]
          },
          "metadata": {
            "tags": []
          }
        }
      ]
    },
    {
      "cell_type": "markdown",
      "metadata": {
        "id": "cJo1PXCLgTza"
      },
      "source": [
        "* here we calculate the time complexity, we want to optimize it in our code"
      ]
    },
    {
      "cell_type": "code",
      "metadata": {
        "id": "zC6gACXigPh5",
        "colab": {
          "base_uri": "https://localhost:8080/",
          "height": 348
        },
        "outputId": "e0e112af-3510-47dd-e654-1a3a21523045"
      },
      "source": [
        "!pip install pprofile\n",
        "import pprofile\n",
        "import pstats\n",
        "import numpy as np\n",
        "\n",
        "filelist={\"A_dixmille.txt\":10000,\"B_centmille.txt\":100000,\"C_cinqcentmille.txt\":500000,\"D_unmillion.txt\":1000000}\n",
        "sizeList=[]\n",
        "costList=[]\n",
        "\n",
        "# We will iterate on each file to find the complexity curve\n",
        "for file,dataSize in filelist.items():\n",
        "  sizeList.append(dataSize)\n",
        "\n",
        "  prof = pprofile.Profile()\n",
        "  prof.runcall(filterMaxByLine, file)\n",
        "  timingFile = list(prof.file_dict.values())[0][0]\n",
        "  costList.append(timingFile.getTotalHitCount())\n",
        "\n",
        "print(sizeList)\n",
        "print(costList)\n",
        "\n",
        "\n",
        "import matplotlib\n",
        "import matplotlib.pyplot as plt\n",
        "\n",
        "# Data for plotting\n",
        "#sizeList and costList from above\n",
        "filename= open(\"A_dixmille.txt\",\"r\")\n",
        "\n",
        "fig, ax = plt.subplots()\n",
        "ax.plot(sizeList, costList)\n",
        "\n",
        "ax.set(xlabel='input size', ylabel='# of operations',\n",
        "       title='Execution time complexity curve')\n",
        "ax.grid()\n",
        "\n",
        "plt.show()"
      ],
      "execution_count": null,
      "outputs": [
        {
          "output_type": "stream",
          "text": [
            "Requirement already satisfied: pprofile in /usr/local/lib/python3.6/dist-packages (2.0.2)\n",
            "[10000, 100000, 500000, 1000000]\n",
            "[60369, 600612, 3000777, 6000377]\n"
          ],
          "name": "stdout"
        },
        {
          "output_type": "display_data",
          "data": {
            "image/png": "[encoded data removed]",
            "text/plain": [
              "<Figure size 432x288 with 1 Axes>"
            ]
          },
          "metadata": {
            "tags": []
          }
        }
      ]
    },
    {
      "cell_type": "markdown",
      "metadata": {
        "id": "Fc5-fpfZRYT9"
      },
      "source": [
        "## III. Worst and Best case for the code "
      ]
    },
    {
      "cell_type": "markdown",
      "metadata": {
        "id": "XWBGWAasgjmV"
      },
      "source": [
        "*We now want to calculate the* **worst case**"
      ]
    },
    {
      "cell_type": "markdown",
      "metadata": {
        "id": "t01fW6L_P8mP"
      },
      "source": [
        "* for the memory"
      ]
    },
    {
      "cell_type": "code",
      "metadata": {
        "id": "3ae4LXezXNo1",
        "colab": {
          "base_uri": "https://localhost:8080/",
          "height": 422
        },
        "outputId": "0dc6b52a-11f1-4713-a267-8183f2f59d93"
      },
      "source": [
        "!pip install -U memory_profiler # Install the needed library\n",
        "from memory_profiler import memory_usage #Import the library\n",
        "\n",
        "filelist={\"A_dixmille.txt\":10000,\"B_centmille.txt\":100000,\"C_cinqcentmille.txt\":500000,\"D_unmillion.txt\":1000000,'worst_case.txt':1000000}\n",
        "sizeList=[]\n",
        "costList=[]\n",
        "\n",
        "# We will iterate on each file to find the complexity curve\n",
        "for filename,dataSize in filelist.items():\n",
        "    sizeList.append(dataSize)\n",
        "    mem_during_execution = memory_usage((filterMaxByLine,(filename,))) #memory_usage take the function name and its paramater(s). It return an array of memory size during execution\n",
        "    memory_increment = max(mem_during_execution)-min(mem_during_execution) #The memory used by the function\n",
        "    costList.append(memory_increment)\n",
        "\n",
        "print(sizeList)\n",
        "print(costList)\n",
        "\n",
        "#Let's plot things !\n",
        "import matplotlib\n",
        "import matplotlib.pyplot as plt\n",
        "\n",
        "# Data for plotting\n",
        "#sizeList and costList from above\n",
        "filename = open(\"worst_case.txt\",\"r\")\n",
        "\n",
        "%memit max_value = filterMaxByLine(\"worst_case.txt\")\n",
        "print(max_value)\n",
        "\n",
        "fig, ax = plt.subplots()\n",
        "ax.plot(sizeList, costList)\n",
        "\n",
        "ax.set(xlabel='input size', ylabel='MiB used',\n",
        "       title='Memory space complexity curve')\n",
        "ax.grid()\n",
        "\n",
        "plt.show()"
      ],
      "execution_count": null,
      "outputs": [
        {
          "output_type": "stream",
          "text": [
            "Requirement already up-to-date: memory_profiler in /usr/local/lib/python3.6/dist-packages (0.57.0)\n",
            "Requirement already satisfied, skipping upgrade: psutil in /usr/local/lib/python3.6/dist-packages (from memory_profiler) (5.4.8)\n",
            "[10000, 100000, 500000, 1000000, 1000000]\n",
            "[0.0, 0.0, 0.0, 0.0, 0.0]\n",
            "peak memory: 175.04 MiB, increment: 0.00 MiB\n",
            "[999900, 999901, 999902, 999903, 999904, 999905, 999906, 999907, 999908, 999909, 999910, 999911, 999912, 999913, 999914, 999915, 999916, 999917, 999918, 999919, 999920, 999921, 999922, 999923, 999924, 999925, 999926, 999927, 999928, 999929, 999930, 999931, 999932, 999933, 999934, 999935, 999936, 999937, 999938, 999939, 999940, 999941, 999942, 999943, 999944, 999945, 999946, 999947, 999948, 999949, 999950, 999951, 999952, 999953, 999954, 999955, 999956, 999957, 999958, 999959, 999960, 999961, 999962, 999963, 999964, 999965, 999966, 999967, 999968, 999969, 999970, 999971, 999972, 999973, 999974, 999975, 999976, 999977, 999978, 999979, 999980, 999981, 999982, 999983, 999984, 999985, 999986, 999987, 999988, 999989, 999990, 999991, 999992, 999993, 999994, 999995, 999996, 999997, 999998, 999999]\n"
          ],
          "name": "stdout"
        },
        {
          "output_type": "display_data",
          "data": {
            "image/png": "[encoded data removed]",
            "text/plain": [
              "<Figure size 432x288 with 1 Axes>"
            ]
          },
          "metadata": {
            "tags": []
          }
        }
      ]
    },
    {
      "cell_type": "markdown",
      "metadata": {
        "id": "HsY3XDGuQBL6"
      },
      "source": [
        "* for the time complexity"
      ]
    },
    {
      "cell_type": "code",
      "metadata": {
        "id": "DmoMvtCjXSs3",
        "colab": {
          "base_uri": "https://localhost:8080/",
          "height": 491
        },
        "outputId": "c47bcf31-1dd4-407d-9ae0-f9b9b3fab9ce"
      },
      "source": [
        "!pip install pprofile\n",
        "import pprofile\n",
        "import pstats\n",
        "import numpy as np\n",
        "\n",
        "filelist={\"worst_case.txt\":100000}\n",
        "sizeList=[]\n",
        "sizeList.append(0)\n",
        "costList=[]\n",
        "costList.append(0)\n",
        "\n",
        "# We will iterate on each file to find the complexity curve\n",
        "for file,dataSize in filelist.items():\n",
        "  sizeList.append(dataSize)\n",
        "\n",
        "  prof = pprofile.Profile()\n",
        "  prof.runcall(filterMaxByLine, file)\n",
        "  timingFile = list(prof.file_dict.values())[0][0]\n",
        "  costList.append(timingFile.getTotalHitCount())\n",
        "\n",
        "print(sizeList)\n",
        "print(costList)\n",
        "\n",
        "\n",
        "import matplotlib\n",
        "import matplotlib.pyplot as plt\n",
        "\n",
        "# Data for plotting\n",
        "#sizeList and costList from above\n",
        "\n",
        "fig, ax = plt.subplots()\n",
        "ax.plot(sizeList, costList)\n",
        "\n",
        "ax.set(xlabel='input size', ylabel='# of operations',\n",
        "       title='Execution time complexity curve')\n",
        "ax.grid()\n",
        "\n",
        "plt.show()"
      ],
      "execution_count": null,
      "outputs": [
        {
          "output_type": "stream",
          "text": [
            "Collecting pprofile\n",
            "  Downloading https://files.pythonhosted.org/packages/35/d9/360f4483f735cbd4f1ac7316f3bdbee06b5872355963b913f1a53871ac72/pprofile-2.0.2.tar.gz\n",
            "Building wheels for collected packages: pprofile\n",
            "  Building wheel for pprofile (setup.py) ... \u001b[?25l\u001b[?25hdone\n",
            "  Created wheel for pprofile: filename=pprofile-2.0.2-cp36-none-any.whl size=34079 sha256=d622ccc411c634240b6443cd7bb533ccb6a57c38924fa4537c9da17593c99cb1\n",
            "  Stored in directory: /root/.cache/pip/wheels/e6/09/3f/d834c2f19fd7f80e5f5369b5372485ca044efba8ea1742888f\n",
            "Successfully built pprofile\n",
            "Installing collected packages: pprofile\n",
            "Successfully installed pprofile-2.0.2\n",
            "[0, 100000]\n",
            "[0, 6999807]\n"
          ],
          "name": "stdout"
        },
        {
          "output_type": "display_data",
          "data": {
            "image/png": "[encoded data removed]",
            "text/plain": [
              "<Figure size 432x288 with 1 Axes>"
            ]
          },
          "metadata": {
            "tags": []
          }
        }
      ]
    },
    {
      "cell_type": "markdown",
      "metadata": {
        "id": "4S3b2lr3_-k1"
      },
      "source": [
        "*we want now to calculate it for the* **best case**"
      ]
    },
    {
      "cell_type": "markdown",
      "metadata": {
        "id": "0FYd2atYPuPo"
      },
      "source": [
        "\n",
        "\n",
        "*   memory usage\n",
        "\n"
      ]
    },
    {
      "cell_type": "code",
      "metadata": {
        "id": "Ii0kLepAXbhB"
      },
      "source": [
        "!pip install -U memory_profiler # Install the needed library\n",
        "from memory_profiler import memory_usage #Import the library\n",
        "\n",
        "filelist={\"A_dixmille.txt\":10000,\"B_centmille.txt\":100000,\"C_cinqcentmille.txt\":500000,\"D_unmillion.txt\":1000000,'best_case.txt':1000000}\n",
        "sizeList=[]\n",
        "costList=[]\n",
        "\n",
        "\n",
        "# We will iterate on each file to find the complexity curve\n",
        "for file,dataSize in filelist.items():\n",
        "    sizeList.append(dataSize)\n",
        "    mem_during_execution = memory_usage((filterMaxByLine,(file,))) #memory_usage take the function name and its paramater(s). It return an array of memory size during execution\n",
        "    memory_increment = max(mem_during_execution)-min(mem_during_execution) #The memory used by the function\n",
        "    costList.append(memory_increment)\n",
        "\n",
        "print(sizeList)\n",
        "print(costList)\n",
        "\n",
        "#Let's plot things !\n",
        "import matplotlib\n",
        "import matplotlib.pyplot as plt\n",
        "\n",
        "# Data for plotting\n",
        "#sizeList and costList from above\n",
        "file= open(\"best_case.txt\",\"r\")\n",
        "\n",
        "%memit max_value = filterMaxByLine('best_case.txt')\n",
        "print(max_value)\n",
        "\n",
        "fig, ax = plt.subplots()\n",
        "ax.plot(sizeList, costList)\n",
        "\n",
        "ax.set(xlabel='input size', ylabel='MiB used',\n",
        "       title='Memory space complexity curve')\n",
        "ax.grid()\n",
        "\n",
        "plt.show()"
      ],
      "execution_count": null,
      "outputs": []
    },
    {
      "cell_type": "markdown",
      "metadata": {
        "id": "jriVyTw_P15I"
      },
      "source": [
        "\n",
        "\n",
        "*   time complexity\n",
        "\n"
      ]
    },
    {
      "cell_type": "code",
      "metadata": {
        "id": "iW9V3eXzYD4k"
      },
      "source": [
        "!pip install pprofile\n",
        "import pprofile\n",
        "import pstats\n",
        "import numpy as np\n",
        "\n",
        "filelist={'best_case.txt':1000000}\n",
        "sizeList=[]\n",
        "sizeList.append(0)\n",
        "costList=[]\n",
        "costList.append(0)\n",
        "\n",
        "# We will iterate on each file to find the complexity curve\n",
        "for file,dataSize in filelist.items():\n",
        "  sizeList.append(dataSize)\n",
        "\n",
        "  prof = pprofile.Profile()\n",
        "  prof.runcall(filterMaxByLine, file)\n",
        "  timingFile = list(prof.file_dict.values())[0][0]\n",
        "  costList.append(timingFile.getTotalHitCount())\n",
        "\n",
        "print(sizeList)\n",
        "print(costList)\n",
        "\n",
        "\n",
        "import matplotlib\n",
        "import matplotlib.pyplot as plt\n",
        "\n",
        "# Data for plotting\n",
        "#sizeList and costList from above\n",
        "\n",
        "fig, ax = plt.subplots()\n",
        "ax.plot(sizeList, costList)\n",
        "\n",
        "ax.set(xlabel='input size', ylabel='# of operations',\n",
        "       title='Execution time complexity curve')\n",
        "ax.grid()\n",
        "\n",
        "plt.show()"
      ],
      "execution_count": null,
      "outputs": []
    }
  ]
}