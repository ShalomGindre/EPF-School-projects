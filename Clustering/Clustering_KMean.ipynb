{
  "nbformat": 4,
  "nbformat_minor": 0,
  "metadata": {
    "kernelspec": {
      "display_name": "Python 3",
      "language": "python",
      "name": "python3"
    },
    "language_info": {
      "codemirror_mode": {
        "name": "ipython",
        "version": 3
      },
      "file_extension": ".py",
      "mimetype": "text/x-python",
      "name": "python",
      "nbconvert_exporter": "python",
      "pygments_lexer": "ipython3",
      "version": "3.7.7"
    },
    "toc": {
      "base_numbering": 1,
      "nav_menu": {},
      "number_sections": true,
      "sideBar": true,
      "skip_h1_title": false,
      "title_cell": "Table of Contents",
      "title_sidebar": "Contents",
      "toc_cell": false,
      "toc_position": {},
      "toc_section_display": true,
      "toc_window_display": false
    },
    "colab": {
      "provenance": []
    }
  },
  "cells": [
    {
      "cell_type": "markdown",
      "metadata": {
        "id": "7w64KPeZ1k7i"
      },
      "source": [
        "# Importation"
      ]
    },
    {
      "cell_type": "code",
      "metadata": {
        "id": "B-ZUuD4PzIca"
      },
      "source": [
        "import pandas as pd\n",
        "import numpy as np\n",
        "import matplotlib.pyplot as plt\n",
        "from sklearn.cluster import KMeans\n",
        "%matplotlib inline"
      ],
      "execution_count": null,
      "outputs": []
    },
    {
      "cell_type": "markdown",
      "metadata": {
        "id": "ekV1vxiH1qJk"
      },
      "source": [
        "# Initialization of cluster "
      ]
    },
    {
      "cell_type": "code",
      "metadata": {
        "colab": {
          "base_uri": "https://localhost:8080/",
          "height": 265
        },
        "id": "wqq7ch3GzIcp",
        "outputId": "a27bd0ff-0b45-4b9e-9221-664b9a4d426d"
      },
      "source": [
        "X= -2 * np.random.rand(300,2)\n",
        "X1 = 1 + 2 * np.random.rand(150,2)\n",
        "X[150:300, :] = X1\n",
        "plt.scatter(X[ : , 0], X[ :, 1], s = 50, c = 'b')\n",
        "plt.show()"
      ],
      "execution_count": null,
      "outputs": [
        {
          "output_type": "display_data",
          "data": {
            "image/png": "[encoded data removed]",
            "text/plain": [
              "<Figure size 432x288 with 1 Axes>"
            ]
          },
          "metadata": {
            "tags": [],
            "needs_background": "light"
          }
        }
      ]
    },
    {
      "cell_type": "markdown",
      "metadata": {
        "id": "Ocv_H9OF1uUG"
      },
      "source": [
        "# Setting up the KMeans function "
      ]
    },
    {
      "cell_type": "markdown",
      "metadata": {
        "id": "dBmHycVA5bnW"
      },
      "source": [
        "## 1. KMean"
      ]
    },
    {
      "cell_type": "markdown",
      "metadata": {
        "id": "pdKaWyug1yR9"
      },
      "source": [
        "> Documentation \n",
        "\n",
        "https://scikit-learn.org/stable/modules/generated/sklearn.cluster.KMeans.html"
      ]
    },
    {
      "cell_type": "markdown",
      "metadata": {
        "id": "hVQQf1PZ2Xhk"
      },
      "source": [
        "**Instantiate in a variable named Kmean the KMeans algorithm**"
      ]
    },
    {
      "cell_type": "code",
      "metadata": {
        "colab": {
          "base_uri": "https://localhost:8080/"
        },
        "id": "xz8sZRdSzIcw",
        "outputId": "241d9780-8e3b-4b0a-bfbf-86fee3b666de"
      },
      "source": [
        "KMean = KMeans(n_clusters= 2)"
      ],
      "execution_count": null,
      "outputs": [
        {
          "output_type": "execute_result",
          "data": {
            "text/plain": [
              "KMeans(algorithm='auto', copy_x=True, init='k-means++', max_iter=300,\n",
              "       n_clusters=2, n_init=10, n_jobs=None, precompute_distances='auto',\n",
              "       random_state=None, tol=0.0001, verbose=0)"
            ]
          },
          "metadata": {
            "tags": []
          },
          "execution_count": 4
        }
      ]
    },
    {
      "cell_type": "markdown",
      "metadata": {
        "id": "U92foGV_2FQA"
      },
      "source": [
        "**Explain your choice of parameters / parameter value for the instantiation of the KMeans algorithm**\n",
        "\n",
        "We decide to choose to let all the parameters by defaults, we don't want to change them. So : \n",
        "KMeans( init='k-means++', n_init=10, max_iter=300, tol=0.0001, precompute_distances='deprecated', verbose=0, random_state=None, copy_x=True, n_jobs='deprecated', algorithm='auto')\n",
        "By ploting the second cell, we see that there are two cluster. \n",
        "\n"
      ]
    },
    {
      "cell_type": "markdown",
      "metadata": {
        "id": "ykhmk2X-2enP"
      },
      "source": [
        "**fit the algorithm thereafter**"
      ]
    },
    {
      "cell_type": "code",
      "metadata": {
        "colab": {
          "base_uri": "https://localhost:8080/"
        },
        "id": "2-wInGp22RwG",
        "outputId": "29416fde-d882-4c31-91a1-527c2de474cd"
      },
      "source": [
        "KMean.fit(X)"
      ],
      "execution_count": null,
      "outputs": [
        {
          "output_type": "execute_result",
          "data": {
            "text/plain": [
              "KMeans(algorithm='auto', copy_x=True, init='k-means++', max_iter=300,\n",
              "       n_clusters=2, n_init=10, n_jobs=None, precompute_distances='auto',\n",
              "       random_state=None, tol=0.0001, verbose=0)"
            ]
          },
          "metadata": {
            "tags": []
          },
          "execution_count": 5
        }
      ]
    },
    {
      "cell_type": "markdown",
      "metadata": {
        "id": "72yyOZh75ejF"
      },
      "source": [
        "## 2. Attributes "
      ]
    },
    {
      "cell_type": "markdown",
      "metadata": {
        "id": "ey_qr_BH2PgG"
      },
      "source": [
        "**Find the attribute of the variable Kmean that displays the clusters' center**\n",
        "\n",
        "Thanks to the documentation about KMeans function, we find that the attributes of the variable KMean that displays the clusters' center is the cluster_centers_ndarray.\n",
        "\n",
        "    Cluster_centers_ndarray of shape (n_clusters, n_features):\n",
        "    Coordinates of cluster centers. If the algorithm stops before fully converging (see tol and max_iter), these will not be consistent with labels_.\n"
      ]
    },
    {
      "cell_type": "markdown",
      "metadata": {
        "id": "k6w82Emq3qG3"
      },
      "source": [
        "**Display the array of the clusters center coordinates**"
      ]
    },
    {
      "cell_type": "code",
      "metadata": {
        "colab": {
          "base_uri": "https://localhost:8080/"
        },
        "id": "fVSsvVFb305s",
        "outputId": "2650468c-e6d2-4a30-919f-0d172323170b"
      },
      "source": [
        "cluster_center_coo = KMean.cluster_centers_\n",
        "print('The coordinates of the clusters center are :\\n', cluster_center_coo)"
      ],
      "execution_count": null,
      "outputs": [
        {
          "output_type": "stream",
          "text": [
            "The coordinates of the clusters center are :\n",
            " [[ 2.00934474  1.92765171]\n",
            " [-0.93074127 -0.98964212]]\n"
          ],
          "name": "stdout"
        }
      ]
    },
    {
      "cell_type": "markdown",
      "metadata": {
        "id": "vEYMtFWS4VnN"
      },
      "source": [
        "**Find the attribute of the variable Kmean that displays the dataset labels**"
      ]
    },
    {
      "cell_type": "markdown",
      "metadata": {
        "id": "YwBn3YYn4ijE"
      },
      "source": [
        "The attribute of the variable Kmean that displays the dataset labels is labels. \n",
        "\n",
        "    labels : ndarray of shape (n_samples,):\n",
        "    Labels of each point\n"
      ]
    },
    {
      "cell_type": "markdown",
      "metadata": {
        "id": "J3o9mNz-49vD"
      },
      "source": [
        "**Display the array of the dataset labels**"
      ]
    },
    {
      "cell_type": "code",
      "metadata": {
        "colab": {
          "base_uri": "https://localhost:8080/"
        },
        "id": "tz7i_uzB4X1N",
        "outputId": "c44c2dd9-8a55-430f-c94c-efaf5dda30a2"
      },
      "source": [
        "labels = KMean.labels_\n",
        "print(labels)"
      ],
      "execution_count": null,
      "outputs": [
        {
          "output_type": "stream",
          "text": [
            "[1 1 1 1 1 1 1 1 1 1 1 1 1 1 1 1 1 1 1 1 1 1 1 1 1 1 1 1 1 1 1 1 1 1 1 1 1\n",
            " 1 1 1 1 1 1 1 1 1 1 1 1 1 1 1 1 1 1 1 1 1 1 1 1 1 1 1 1 1 1 1 1 1 1 1 1 1\n",
            " 1 1 1 1 1 1 1 1 1 1 1 1 1 1 1 1 1 1 1 1 1 1 1 1 1 1 1 1 1 1 1 1 1 1 1 1 1\n",
            " 1 1 1 1 1 1 1 1 1 1 1 1 1 1 1 1 1 1 1 1 1 1 1 1 1 1 1 1 1 1 1 1 1 1 1 1 1\n",
            " 1 1 0 0 0 0 0 0 0 0 0 0 0 0 0 0 0 0 0 0 0 0 0 0 0 0 0 0 0 0 0 0 0 0 0 0 0\n",
            " 0 0 0 0 0 0 0 0 0 0 0 0 0 0 0 0 0 0 0 0 0 0 0 0 0 0 0 0 0 0 0 0 0 0 0 0 0\n",
            " 0 0 0 0 0 0 0 0 0 0 0 0 0 0 0 0 0 0 0 0 0 0 0 0 0 0 0 0 0 0 0 0 0 0 0 0 0\n",
            " 0 0 0 0 0 0 0 0 0 0 0 0 0 0 0 0 0 0 0 0 0 0 0 0 0 0 0 0 0 0 0 0 0 0 0 0 0\n",
            " 0 0 0 0]\n"
          ],
          "name": "stdout"
        }
      ]
    },
    {
      "cell_type": "markdown",
      "metadata": {
        "id": "epcYx8OD5n-h"
      },
      "source": [
        "## 3. Visualization"
      ]
    },
    {
      "cell_type": "markdown",
      "metadata": {
        "id": "7erD_tqG5-a7"
      },
      "source": [
        "**Replace x1, x2, y1, y2 with the values of the clusters' center obtained before and uncomment the 2 scatter plots** "
      ]
    },
    {
      "cell_type": "code",
      "metadata": {
        "colab": {
          "base_uri": "https://localhost:8080/",
          "height": 283
        },
        "id": "KjOqxPwozIc7",
        "outputId": "2c53e405-3c9f-4c28-f430-e0abaa9815f5"
      },
      "source": [
        "x1 = cluster_center_coo[0,0]\n",
        "y1 = cluster_center_coo[0,1]\n",
        "x2 = cluster_center_coo[1,0]\n",
        "y2 = cluster_center_coo[1,1]\n",
        "print(x1, y1, x2, y2)\n",
        "\n",
        "plt.scatter(X[ : , 0], X[ : , 1], s =50, c='pink')\n",
        "plt.scatter(x1, y1, s=200, c='y', marker='s')\n",
        "plt.scatter(x2, y2, s=200, c='b', marker='s')\n",
        "plt.show()"
      ],
      "execution_count": null,
      "outputs": [
        {
          "output_type": "stream",
          "text": [
            "2.0093447396355404 1.9276517051367281 -0.9307412693966073 -0.9896421218023126\n"
          ],
          "name": "stdout"
        },
        {
          "output_type": "display_data",
          "data": {
            "image/png": "[encoded data removed]",
            "text/plain": [
              "<Figure size 432x288 with 1 Axes>"
            ]
          },
          "metadata": {
            "tags": [],
            "needs_background": "light"
          }
        }
      ]
    },
    {
      "cell_type": "markdown",
      "metadata": {
        "id": "X7NHGW_K55kk"
      },
      "source": [
        "## 4. Prediction "
      ]
    },
    {
      "cell_type": "markdown",
      "metadata": {
        "id": "SWnr-P6h7Uqo"
      },
      "source": [
        "**Create an array of points (with X and Y coordinates)**\n",
        "\n",
        "Let's create an array with rand coordinates for X and Y. "
      ]
    },
    {
      "cell_type": "code",
      "metadata": {
        "colab": {
          "base_uri": "https://localhost:8080/",
          "height": 265
        },
        "id": "reOa1RLF7YeJ",
        "outputId": "33281886-fa14-45d6-ac5f-c671dbcddce5"
      },
      "source": [
        "X= np.random.rand(300,2)\n",
        "X1 = -2 * np.random.rand(150,2)\n",
        "X[150:300, :] = X1\n",
        "plt.scatter(X[ : , 0], X[ :, 1], s = 50, c = 'g')\n",
        "plt.show()"
      ],
      "execution_count": null,
      "outputs": [
        {
          "output_type": "display_data",
          "data": {
            "image/png": "[encoded data removed]",
            "text/plain": [
              "<Figure size 432x288 with 1 Axes>"
            ]
          },
          "metadata": {
            "tags": [],
            "needs_background": "light"
          }
        }
      ]
    },
    {
      "cell_type": "markdown",
      "metadata": {
        "id": "jCsgAUAU8Wxp"
      },
      "source": [
        "**Perform a prediction of your KMean algorithm on your new array**\n",
        "\n",
        "the functionnality predict does that : \n",
        "\n",
        "    Predict the closest cluster each sample in X belongs to. "
      ]
    },
    {
      "cell_type": "code",
      "metadata": {
        "colab": {
          "base_uri": "https://localhost:8080/",
          "height": 426
        },
        "id": "rpqcNyFqzIdA",
        "outputId": "75437069-9915-4195-c0cd-a1982167a4fa"
      },
      "source": [
        "prediction = KMean.predict(X)\n",
        "print(prediction)\n",
        "\n",
        "plt.scatter(X[ : , 0], X[ : , 1], s =50, c='g')\n",
        "plt.scatter(x1, y1, s=200, c='y', marker='s')\n",
        "plt.scatter(x2, y2, s=200, c='b', marker='s')\n",
        "plt.show()\n"
      ],
      "execution_count": null,
      "outputs": [
        {
          "output_type": "stream",
          "text": [
            "[1 1 0 1 0 1 1 0 1 0 0 0 1 1 1 1 0 0 1 1 0 1 1 1 0 1 0 1 0 0 0 0 1 1 1 0 0\n",
            " 1 1 1 0 0 0 0 0 0 1 1 1 0 0 1 1 0 1 0 1 1 0 1 1 1 0 1 0 1 1 0 0 0 1 0 1 0\n",
            " 0 1 0 0 0 0 0 0 1 1 1 0 0 1 1 1 0 1 0 0 1 0 0 0 1 1 1 0 1 1 1 0 1 1 1 1 1\n",
            " 0 0 0 0 1 0 0 0 0 0 1 1 0 1 1 1 0 1 0 1 1 0 1 1 0 0 0 1 0 0 0 1 0 1 0 1 0\n",
            " 1 1 1 1 1 1 1 1 1 1 1 1 1 1 1 1 1 1 1 1 1 1 1 1 1 1 1 1 1 1 1 1 1 1 1 1 1\n",
            " 1 1 1 1 1 1 1 1 1 1 1 1 1 1 1 1 1 1 1 1 1 1 1 1 1 1 1 1 1 1 1 1 1 1 1 1 1\n",
            " 1 1 1 1 1 1 1 1 1 1 1 1 1 1 1 1 1 1 1 1 1 1 1 1 1 1 1 1 1 1 1 1 1 1 1 1 1\n",
            " 1 1 1 1 1 1 1 1 1 1 1 1 1 1 1 1 1 1 1 1 1 1 1 1 1 1 1 1 1 1 1 1 1 1 1 1 1\n",
            " 1 1 1 1]\n"
          ],
          "name": "stdout"
        },
        {
          "output_type": "display_data",
          "data": {
            "image/png": "[encoded data removed]",
            "text/plain": [
              "<Figure size 432x288 with 1 Axes>"
            ]
          },
          "metadata": {
            "tags": [],
            "needs_background": "light"
          }
        }
      ]
    },
    {
      "cell_type": "markdown",
      "metadata": {
        "id": "mQBCZNLE-kdT"
      },
      "source": [
        "**Do the predictions make sense?**\n",
        "\n",
        "The prediction of the yellow center doesn't make sense but the other one does. "
      ]
    }
  ]
}