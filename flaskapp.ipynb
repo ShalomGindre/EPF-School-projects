from flask import Flask, render_template, jsonify
import requests
from bokeh.plotting import figure, output_file, show
from bokeh.models import ColumnDataSource, Grid, Line, LinearAxis, Plot
import pandas as pd
import numpy as np 
from bokeh.embed import components
import csv, json


app = Flask(__name__)

alcohol_consumption_url = "https://www.stats.govt.nz/assets/Uploads/Alcohol-available-for-consumption/Alcohol-available-for-consumption-Year-ended-December-2019/Download-data/alcohol-available-for-consumption-year-ended-december-2019-csv.csv"
csv_file = requests.get(alcohol_consumption_url)
open("talcohol-available-for-consumption-year-ended-december-2019-csv.csv", "wb").write(csv_file.content)
csvfname = "talcohol-available-for-consumption-year-ended-december-2019-csv.csv"
df = pd.read_csv(csvfname,  header=0, skipinitialspace=True)

print(df['Data_value'])


#API to get the data collected

@app.route('/api')
def hello_API():
    return "Hello API!"

@app.route('/')
def hello_world():
    return "Hello World!"

@app.route('/consumption')
def consumption():
    filtered = df["Data_value"]
    filtered.index = df['Period']
    return filtered.to_json(orient='table')





 






