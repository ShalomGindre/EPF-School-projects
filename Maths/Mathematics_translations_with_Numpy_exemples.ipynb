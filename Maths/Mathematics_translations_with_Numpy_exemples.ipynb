{
  "nbformat": 4,
  "nbformat_minor": 0,
  "metadata": {
    "colab": {
      "provenance": []
    },
    "kernelspec": {
      "name": "python3",
      "display_name": "Python 3"
    }
  },
  "cells": [
    {
      "cell_type": "markdown",
      "metadata": {
        "id": "78KfuCaEY2Gx"
      },
      "source": [
        "## Data Engineering : Mathematics for Machine Learning and Data Science\n",
        "\n",
        "*Questions* \n",
        "\n",
        "1. Compute the scalar products between any pair of vectors u5.uj\n"
      ]
    },
    {
      "cell_type": "code",
      "metadata": {
        "id": "Xdnb_4Z2Yyb-",
        "colab": {
          "base_uri": "https://localhost:8080/",
          "height": 295
        },
        "outputId": "73910f1f-b30f-486f-cb60-a38ec99fda83"
      },
      "source": [
        "import numpy as np \n",
        "\n",
        "# we want to create a loop for sclalar products between any other vector different from u5\n",
        "# between u1 and u4 \n",
        "\n",
        "U=[]\n",
        "U.append(np.array([-6,-3,3,-3]))\n",
        "U.append(np.array([-8,4,1,-1]))\n",
        "U.append(np.array([-4,-3,4,-8]))\n",
        "U.append(np.array([-8,-6,-7,-1]))\n",
        "\n",
        "\n",
        "\n",
        "for i in range(0,len(U)): \n",
        "  for j in range(0,len(U)):\n",
        "    scalar = np.vdot(U[i],U[j])\n",
        "    print ('the scalar product between',U[i], 'and', U[j],'is that', scalar) \n",
        "\n",
        "\n",
        "\n",
        "  "
      ],
      "execution_count": null,
      "outputs": [
        {
          "output_type": "stream",
          "text": [
            "the scalar product between [-6 -3  3 -3] and [-6 -3  3 -3] is that 63\n",
            "the scalar product between [-6 -3  3 -3] and [-8  4  1 -1] is that 42\n",
            "the scalar product between [-6 -3  3 -3] and [-4 -3  4 -8] is that 69\n",
            "the scalar product between [-6 -3  3 -3] and [-8 -6 -7 -1] is that 48\n",
            "the scalar product between [-8  4  1 -1] and [-6 -3  3 -3] is that 42\n",
            "the scalar product between [-8  4  1 -1] and [-8  4  1 -1] is that 82\n",
            "the scalar product between [-8  4  1 -1] and [-4 -3  4 -8] is that 32\n",
            "the scalar product between [-8  4  1 -1] and [-8 -6 -7 -1] is that 34\n",
            "the scalar product between [-4 -3  4 -8] and [-6 -3  3 -3] is that 69\n",
            "the scalar product between [-4 -3  4 -8] and [-8  4  1 -1] is that 32\n",
            "the scalar product between [-4 -3  4 -8] and [-4 -3  4 -8] is that 105\n",
            "the scalar product between [-4 -3  4 -8] and [-8 -6 -7 -1] is that 30\n",
            "the scalar product between [-8 -6 -7 -1] and [-6 -3  3 -3] is that 48\n",
            "the scalar product between [-8 -6 -7 -1] and [-8  4  1 -1] is that 34\n",
            "the scalar product between [-8 -6 -7 -1] and [-4 -3  4 -8] is that 30\n",
            "the scalar product between [-8 -6 -7 -1] and [-8 -6 -7 -1] is that 150\n"
          ],
          "name": "stdout"
        }
      ]
    },
    {
      "cell_type": "markdown",
      "metadata": {
        "id": "a_wyajGXdJqX"
      },
      "source": [
        "2. Using the Gram-Schmidt algo, and starting from vector {u1,u2,u3,u4} construct an orthonormal family of vectors {v1,v2,v3,v4} \n",
        "\n",
        "![Screenshot from 2020-01-31 11-44-18.png](/home/shalom/Desktop)\n"
      ]
    },
    {
      "cell_type": "code",
      "metadata": {
        "id": "R-57AmQkdIto",
        "colab": {
          "base_uri": "https://localhost:8080/",
          "height": 54
        },
        "outputId": "2a89631f-adda-4819-e948-894b0e529839"
      },
      "source": [
        "# here the algorithm of Gram-Schmidt method \n",
        "\n",
        "# the principal of this method is to construct a orthonomal base of a sub-space\n",
        "# starting with a free family of elements \n",
        "\n",
        "# we will use the projection of the free family intruded before on orthonormal \n",
        "#vector to construct a space of orthonormal vector \n",
        "\n",
        "import numpy as np\n",
        "\n",
        "def proj(u,v):\n",
        "    return np.dot(u,v)/np.dot(v,v)*v\n",
        "\n",
        "\n",
        "\n",
        "V=[]\n",
        "V.append(U[0])\n",
        "for n in range(1,len(U)):\n",
        "    somme_proj = 0\n",
        "    for i in range(n):\n",
        "        somme_proj += proj(U[n],V[i])\n",
        "    V.append(U[n]-somme_proj)\n",
        "\n",
        "e=[]\n",
        "for n in range(len(V)):\n",
        "    e.append(V[n]/np.linalg.norm(V[n]))\n",
        "e\n",
        "\n",
        "print(\"the new orthogonal family is\", e)\n"
      ],
      "execution_count": null,
      "outputs": [
        {
          "output_type": "stream",
          "text": [
            "the new orthogonal family is [array([-0.75592895, -0.37796447,  0.37796447, -0.37796447])]\n"
          ],
          "name": "stdout"
        }
      ]
    },
    {
      "cell_type": "markdown",
      "metadata": {
        "id": "er_-Vti0k0_8"
      },
      "source": [
        "3. E the linear space spanned by the vectors {u1,u2,u3} and P the projection matrix onto E. \n",
        "We want to compute the projector P and verify by computing the square of P that we have found a projector \n",
        "and then, compute the porjection of the vector (1,1,1,1) onto E "
      ]
    },
    {
      "cell_type": "code",
      "metadata": {
        "id": "OabvWRpullm1",
        "colab": {
          "base_uri": "https://localhost:8080/",
          "height": 295
        },
        "outputId": "abaa9062-5eb8-44c5-eea9-f29e9e65dcc5"
      },
      "source": [
        "# here the linear space E \n",
        "\n",
        "u1 =np.array([-6,-3,3,-3]) \n",
        "u2 = np.array([-8,4,1,-1])\n",
        "u3 = np.array([-4,-3,4,-8])\n",
        "u4 = np.array([-8,-6,-7,-1]) \n",
        "\n",
        "#E = np.linspace(u1,u2,u3)\n",
        "\n",
        "# we now compute the projector P \n",
        "# for that we also verify by computing the square of P \n",
        "\n",
        "#E = [u1,u2,u3]\n",
        "E = np.column_stack((u1,u2,u3))\n",
        "\n",
        "P = np.dot(E,np.dot(np.linalg.inv(np.dot(np.transpose(E),E)),np.transpose(E)))\n",
        "print('P='+str(P)) \n",
        "\n",
        "# verification \n",
        "\n",
        "print ('the square of P =',np.dot(P,P))\n",
        "# we then can see that PP = P, which is part of the definition of a projector \n",
        "\n",
        "# the projection of the vector (1,1,1,1) onto E \n",
        "\n",
        "F =np.array([[1],[1],[1],[1]])\n",
        "print('F (la matrice à projeter)='+str(F)) \n",
        "\n",
        "proj=np.dot(P,F)\n",
        "print('proj='+str(proj))\n",
        "\n"
      ],
      "execution_count": null,
      "outputs": [
        {
          "output_type": "stream",
          "text": [
            "P=[[ 0.95898277 -0.04922067 -0.18457752 -0.0533224 ]\n",
            " [-0.04922067  0.94093519 -0.22149303 -0.06398687]\n",
            " [-0.18457752 -0.22149303  0.16940115 -0.23995078]\n",
            " [-0.0533224  -0.06398687 -0.23995078  0.93068089]]\n",
            "the square of P = [[ 0.95898277 -0.04922067 -0.18457752 -0.0533224 ]\n",
            " [-0.04922067  0.94093519 -0.22149303 -0.06398687]\n",
            " [-0.18457752 -0.22149303  0.16940115 -0.23995078]\n",
            " [-0.0533224  -0.06398687 -0.23995078  0.93068089]]\n",
            "F (la matrice à projeter)=[[1]\n",
            " [1]\n",
            " [1]\n",
            " [1]]\n",
            "proj=[[ 0.67186218]\n",
            " [ 0.60623462]\n",
            " [-0.47662018]\n",
            " [ 0.57342084]]\n"
          ],
          "name": "stdout"
        }
      ]
    },
    {
      "cell_type": "markdown",
      "metadata": {
        "id": "payjAEcFszYw"
      },
      "source": [
        "4. What is the determinant, trace and eigenvalues of P? are those results obvious? "
      ]
    },
    {
      "cell_type": "code",
      "metadata": {
        "id": "XphQPeyas7j1",
        "colab": {
          "base_uri": "https://localhost:8080/",
          "height": 159
        },
        "outputId": "3fbefa91-7d91-4a10-9aa7-b44982b8c552"
      },
      "source": [
        "from numpy import linalg as LA  \n",
        "\n",
        "print(P)\n",
        "\n",
        "# determinant \n",
        "\n",
        "Det = np.linalg.det(P)\n",
        "print(Det)\n",
        "\n",
        "# the trace (summ of the diagonal element of the matrix)\n",
        "\n",
        "trace =  np.trace(P)\n",
        "print('la trace de P est', trace)\n",
        "\n",
        "#for i in range(1,len(P)):\n",
        " # sum_diagonal = np.sum(P[i][i])\n",
        "  #trace = sum_diagonal\n",
        "#print(trace)\n",
        "\n",
        "# eigenvalues of P \n",
        "\n",
        "w,e = LA.eig(P)\n",
        "\n",
        "w;e\n",
        "print ('the eigenvalues',w)\n",
        "\n"
      ],
      "execution_count": null,
      "outputs": [
        {
          "output_type": "stream",
          "text": [
            "[[ 0.95898277 -0.04922067 -0.18457752 -0.0533224 ]\n",
            " [-0.04922067  0.94093519 -0.22149303 -0.06398687]\n",
            " [-0.18457752 -0.22149303  0.16940115 -0.23995078]\n",
            " [-0.0533224  -0.06398687 -0.23995078  0.93068089]]\n",
            "-3.3299859998242246e-17\n",
            "la trace de P est 3.0\n",
            "the eigenvalues [8.62365241e-17 1.00000000e+00 1.00000000e+00 1.00000000e+00]\n"
          ],
          "name": "stdout"
        }
      ]
    },
    {
      "cell_type": "markdown",
      "metadata": {
        "id": "8eiSigwQw0MY"
      },
      "source": [
        "5. let R be the matrix whose rows are the vectors (u1,u2), compute the SVD of R "
      ]
    },
    {
      "cell_type": "code",
      "metadata": {
        "id": "RU7SXY_9w-x_",
        "colab": {
          "base_uri": "https://localhost:8080/",
          "height": 141
        },
        "outputId": "1967fcf4-28c3-41e9-bc9f-32e5fc59f3ae"
      },
      "source": [
        "# the matrix R \n",
        "\n",
        "R = []\n",
        "R.append(np.array([-6,-3,3,-3]))\n",
        "R.append(np.array([-8,4,1,-1]))\n",
        "\n",
        "print ('R=', R)\n",
        "\n",
        "SVD = np.linalg.svd(R)\n",
        "print('SVD of R = ',SVD)\n",
        "\n"
      ],
      "execution_count": null,
      "outputs": [
        {
          "output_type": "stream",
          "text": [
            "R= [array([-6, -3,  3, -3]), array([-8,  4,  1, -1])]\n",
            "SVD of R =  (array([[-0.62425265, -0.78122252],\n",
            "       [-0.78122252,  0.62425265]]), array([10.74993038,  5.42577154]), array([[ 0.92980101, -0.11647816, -0.2468835 ,  0.2468835 ],\n",
            "       [-0.05652397,  0.89216403, -0.31689777,  0.31689777],\n",
            "       [ 0.25717225,  0.3086067 ,  0.9114756 ,  0.0885244 ],\n",
            "       [-0.25717225, -0.3086067 ,  0.0885244 ,  0.9114756 ]]))\n"
          ],
          "name": "stdout"
        }
      ]
    },
    {
      "cell_type": "markdown",
      "metadata": {
        "id": "3zsd6QOux9cE"
      },
      "source": [
        "6. Let S=RR^T.Compute the exponential of the matrix S. Compute S -S^T "
      ]
    },
    {
      "cell_type": "code",
      "metadata": {
        "id": "pDRz1EnTyPAy",
        "colab": {
          "base_uri": "https://localhost:8080/",
          "height": 121
        },
        "outputId": "33338fd3-6965-40cc-ab58-57943c0cad08"
      },
      "source": [
        "from scipy.linalg import expm, sinm, cosm\n",
        "\n",
        "\n",
        "# the exponential of a matrix S \n",
        "\n",
        "S = np.dot(R,np.transpose(R))\n",
        "print('S', S)\n",
        "\n",
        "# we want the exponential of the matrix S \n",
        "\n",
        "exp =  expm(S)\n",
        "\n",
        "print('the exponential of S is ', S)\n",
        "\n",
        "# compute S-S^T \n",
        "\n",
        "ST = np.transpose(S)\n",
        "C = S - ST \n",
        "\n",
        "print('S-ST =',C)\n",
        "\n"
      ],
      "execution_count": null,
      "outputs": [
        {
          "output_type": "stream",
          "text": [
            "S [[63 42]\n",
            " [42 82]]\n",
            "the exponential of S is  [[63 42]\n",
            " [42 82]]\n",
            "S-ST = [[0 0]\n",
            " [0 0]]\n"
          ],
          "name": "stdout"
        }
      ]
    }
  ]
}