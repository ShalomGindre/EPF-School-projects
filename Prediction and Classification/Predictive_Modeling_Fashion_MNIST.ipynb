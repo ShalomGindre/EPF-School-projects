{
  "nbformat": 4,
  "nbformat_minor": 0,
  "metadata": {
    "colab": {
      "provenance": []
    },
    "kernelspec": {
      "name": "python3",
      "display_name": "Python 3"
    },
    "accelerator": "GPU"
  },
  "cells": [
    {
      "cell_type": "code",
      "metadata": {
        "id": "BUIfpCUJo-c1"
      },
      "source": [
        "import tensorflow as tf"
      ],
      "execution_count": null,
      "outputs": []
    },
    {
      "cell_type": "code",
      "metadata": {
        "id": "iHQlwTVMpReY"
      },
      "source": [
        "from tensorflow import keras"
      ],
      "execution_count": null,
      "outputs": []
    },
    {
      "cell_type": "code",
      "metadata": {
        "id": "6Ip3J27iqB_w",
        "outputId": "a15c8671-d8b8-458a-9614-6f58201046f7",
        "colab": {
          "base_uri": "https://localhost:8080/",
          "height": 35
        }
      },
      "source": [
        "tf.__version__\n"
      ],
      "execution_count": null,
      "outputs": [
        {
          "output_type": "execute_result",
          "data": {
            "application/vnd.google.colaboratory.intrinsic+json": {
              "type": "string"
            },
            "text/plain": [
              "'2.3.0'"
            ]
          },
          "metadata": {
            "tags": []
          },
          "execution_count": 4
        }
      ]
    },
    {
      "cell_type": "markdown",
      "metadata": {
        "id": "lqo3n20frOa-"
      },
      "source": [
        "CUDA --> Nvidia"
      ]
    },
    {
      "cell_type": "code",
      "metadata": {
        "id": "hIpvIooYqHty",
        "outputId": "322ea241-0798-4ec9-f85c-cb9000f2793a",
        "colab": {
          "base_uri": "https://localhost:8080/",
          "height": 35
        }
      },
      "source": [
        "keras.__version__"
      ],
      "execution_count": null,
      "outputs": [
        {
          "output_type": "execute_result",
          "data": {
            "application/vnd.google.colaboratory.intrinsic+json": {
              "type": "string"
            },
            "text/plain": [
              "'2.4.0'"
            ]
          },
          "metadata": {
            "tags": []
          },
          "execution_count": 5
        }
      ]
    },
    {
      "cell_type": "code",
      "metadata": {
        "id": "V-wKZSphqKrZ"
      },
      "source": [
        "fashion_mnist=keras.datasets.fashion_mnist"
      ],
      "execution_count": null,
      "outputs": []
    },
    {
      "cell_type": "code",
      "metadata": {
        "id": "0IYKGtk4qPAg",
        "outputId": "4b22916c-8920-4cf8-efcf-14697a72b823",
        "colab": {
          "base_uri": "https://localhost:8080/"
        }
      },
      "source": [
        "(X_train_full, y_train_full),(X_test,y_test) = fashion_mnist.load_data()"
      ],
      "execution_count": null,
      "outputs": [
        {
          "output_type": "stream",
          "text": [
            "Downloading data from https://storage.googleapis.com/tensorflow/tf-keras-datasets/train-labels-idx1-ubyte.gz\n",
            "32768/29515 [=================================] - 0s 0us/step\n",
            "Downloading data from https://storage.googleapis.com/tensorflow/tf-keras-datasets/train-images-idx3-ubyte.gz\n",
            "26427392/26421880 [==============================] - 1s 0us/step\n",
            "Downloading data from https://storage.googleapis.com/tensorflow/tf-keras-datasets/t10k-labels-idx1-ubyte.gz\n",
            "8192/5148 [===============================================] - 0s 0us/step\n",
            "Downloading data from https://storage.googleapis.com/tensorflow/tf-keras-datasets/t10k-images-idx3-ubyte.gz\n",
            "4423680/4422102 [==============================] - 0s 0us/step\n"
          ],
          "name": "stdout"
        }
      ]
    },
    {
      "cell_type": "code",
      "metadata": {
        "id": "_vGxG-2WqZZC",
        "outputId": "56226f98-c92c-4362-c445-788db4f355cd",
        "colab": {
          "base_uri": "https://localhost:8080/"
        }
      },
      "source": [
        "X_train_full.shape"
      ],
      "execution_count": null,
      "outputs": [
        {
          "output_type": "execute_result",
          "data": {
            "text/plain": [
              "(60000, 28, 28)"
            ]
          },
          "metadata": {
            "tags": []
          },
          "execution_count": 8
        }
      ]
    },
    {
      "cell_type": "markdown",
      "metadata": {
        "id": "8XwCKHUBqc3u"
      },
      "source": [
        "Note that we need to constrction our validation set"
      ]
    },
    {
      "cell_type": "code",
      "metadata": {
        "id": "kNg2X4MEqcIt"
      },
      "source": [
        "\n",
        "x_valid, x_train = X_train_full[:5000]/255.0, X_train_full[5000:]/255.0\n",
        "# on divise par 255 car image traité sont en échelle de gris ( 0 à 255)\n",
        "# de faire ca : ca le normalise à un nombre entre 0 et 1 \n",
        "# on veut nombre à la soirtie de la fonction d'activation entre 0 et 1 "
      ],
      "execution_count": null,
      "outputs": []
    },
    {
      "cell_type": "code",
      "metadata": {
        "id": "13AlngYnrAPk"
      },
      "source": [
        "\n",
        "y_valid, y_train = y_train_full[:5000]/255.0, y_train_full[5000:]/255.0"
      ],
      "execution_count": null,
      "outputs": []
    },
    {
      "cell_type": "code",
      "metadata": {
        "id": "cjXh-M8JrGaZ",
        "outputId": "78d6f843-7c5d-4afa-8f07-16c183a34bd2",
        "colab": {
          "base_uri": "https://localhost:8080/"
        }
      },
      "source": [
        "print(y_valid[0]) # chiffre correspond à une des classes à laquelles il va correspondre "
      ],
      "execution_count": null,
      "outputs": [
        {
          "output_type": "stream",
          "text": [
            "0.03529411764705882\n"
          ],
          "name": "stdout"
        }
      ]
    },
    {
      "cell_type": "code",
      "metadata": {
        "id": "SoG6ly02rqnk"
      },
      "source": [
        "class_names = ['T-shirt/top', 'Trouser', 'Pullover', 'Dress', 'Coat', 'Sandal', 'Shirt', 'Sneaker', 'Bag', 'Ankle boot']"
      ],
      "execution_count": null,
      "outputs": []
    },
    {
      "cell_type": "markdown",
      "metadata": {
        "id": "I_u1AjUIsndB"
      },
      "source": [
        "# Create the Neural Network\n"
      ]
    },
    {
      "cell_type": "code",
      "metadata": {
        "id": "7qk3ohHBsrDy"
      },
      "source": [
        "model = keras.models.Sequential()"
      ],
      "execution_count": null,
      "outputs": []
    },
    {
      "cell_type": "code",
      "metadata": {
        "id": "aLrbbPnjsk8t"
      },
      "source": [
        "model.add(keras.layers.Flatten(input_shape=[28,28]))\n",
        "# Input layer, Flatten is a function than transfomr a matrix\n",
        "# (image) into a vector of features (line by line)\n",
        "# Flatten regroupement image concaténées : transformer 28x28 en un vector de 724 entrées \n"
      ],
      "execution_count": null,
      "outputs": []
    },
    {
      "cell_type": "code",
      "metadata": {
        "id": "x7lyMPh-tKvm"
      },
      "source": [
        "model.add(keras.layers.Dense(300, activation=\"relu\"))\n",
        "# 300 neuronnes avec activation function qui est relu\n",
        "# 1st hidden layer "
      ],
      "execution_count": null,
      "outputs": []
    },
    {
      "cell_type": "code",
      "metadata": {
        "id": "IKyiPuyZtgcW"
      },
      "source": [
        "model.add(keras.layers.Dense(100, activation=\"relu\"))\n",
        "# 2nd hidden layer "
      ],
      "execution_count": null,
      "outputs": []
    },
    {
      "cell_type": "code",
      "metadata": {
        "id": "EtH6kBa0tonq"
      },
      "source": [
        "model.add(keras.layers.Dense(10, activation=\"softmax\"))\n",
        "# Class 10"
      ],
      "execution_count": null,
      "outputs": []
    },
    {
      "cell_type": "markdown",
      "metadata": {
        "id": "sHjMXk4fuQwB"
      },
      "source": [
        "We can do direclty all together "
      ]
    },
    {
      "cell_type": "code",
      "metadata": {
        "id": "lGqkwfeQuQUI"
      },
      "source": [
        "model = keras.models.Sequential(\n",
        "    [\n",
        "    keras.layers.Flatten(input_shape=[28,28]),\n",
        "    keras.layers.Dense(300, activation=\"relu\"),\n",
        "    keras.layers.Dense(100, activation=\"relu\"),\n",
        "    keras.layers.Dense(10, activation =\"softmax\")\n",
        "\n",
        "    ]\n",
        ")"
      ],
      "execution_count": null,
      "outputs": []
    },
    {
      "cell_type": "code",
      "metadata": {
        "id": "ke0t9j08u8xm",
        "outputId": "fa058b2d-075d-4540-c44d-03977791e1b8",
        "colab": {
          "base_uri": "https://localhost:8080/"
        }
      },
      "source": [
        "model.summary()"
      ],
      "execution_count": null,
      "outputs": [
        {
          "output_type": "stream",
          "text": [
            "Model: \"sequential_1\"\n",
            "_________________________________________________________________\n",
            "Layer (type)                 Output Shape              Param #   \n",
            "=================================================================\n",
            "flatten_1 (Flatten)          (None, 784)               0         \n",
            "_________________________________________________________________\n",
            "dense_3 (Dense)              (None, 300)               235500    \n",
            "_________________________________________________________________\n",
            "dense_4 (Dense)              (None, 100)               30100     \n",
            "_________________________________________________________________\n",
            "dense_5 (Dense)              (None, 10)                1010      \n",
            "=================================================================\n",
            "Total params: 266,610\n",
            "Trainable params: 266,610\n",
            "Non-trainable params: 0\n",
            "_________________________________________________________________\n"
          ],
          "name": "stdout"
        }
      ]
    },
    {
      "cell_type": "code",
      "metadata": {
        "id": "8dt0s_xovCb3",
        "outputId": "d823205a-3501-4cd4-c991-05e35eb2e7a9",
        "colab": {
          "base_uri": "https://localhost:8080/"
        }
      },
      "source": [
        "# accéder aux paramètres du NN\n",
        "model.layers"
      ],
      "execution_count": null,
      "outputs": [
        {
          "output_type": "execute_result",
          "data": {
            "text/plain": [
              "[<tensorflow.python.keras.layers.core.Flatten at 0x7fe8401bf320>,\n",
              " <tensorflow.python.keras.layers.core.Dense at 0x7fe8401bf4a8>,\n",
              " <tensorflow.python.keras.layers.core.Dense at 0x7fe8401bf710>,\n",
              " <tensorflow.python.keras.layers.core.Dense at 0x7fe8401bf978>]"
            ]
          },
          "metadata": {
            "tags": []
          },
          "execution_count": 20
        }
      ]
    },
    {
      "cell_type": "code",
      "metadata": {
        "id": "_G3j6EW0vNEc",
        "outputId": "79c69344-3be4-4bad-b034-97074fae63d7",
        "colab": {
          "base_uri": "https://localhost:8080/"
        }
      },
      "source": [
        "model.layers[1]\n",
        "# on accède au layer1 avec les poids "
      ],
      "execution_count": null,
      "outputs": [
        {
          "output_type": "execute_result",
          "data": {
            "text/plain": [
              "<tensorflow.python.keras.layers.core.Dense at 0x7fe8401bf4a8>"
            ]
          },
          "metadata": {
            "tags": []
          },
          "execution_count": 21
        }
      ]
    },
    {
      "cell_type": "code",
      "metadata": {
        "id": "GAQAzMLavVFZ"
      },
      "source": [
        "hidden1=model.layers[1]"
      ],
      "execution_count": null,
      "outputs": []
    },
    {
      "cell_type": "code",
      "metadata": {
        "id": "vYGUDDYfvamu",
        "outputId": "9eb674fd-175c-4598-99d1-0927accec457",
        "colab": {
          "base_uri": "https://localhost:8080/"
        }
      },
      "source": [
        "hidden1.get_weights()\n",
        "# affiche les poids, à l'arrivée et à la sortie \n",
        "# les premiers poids vont êêtre modifiés petit à petit "
      ],
      "execution_count": null,
      "outputs": [
        {
          "output_type": "execute_result",
          "data": {
            "text/plain": [
              "[array([[-0.02237698, -0.02835392, -0.04600323, ..., -0.03996794,\n",
              "         -0.02222853,  0.06724738],\n",
              "        [-0.04728534, -0.01055718,  0.02846205, ...,  0.02280378,\n",
              "         -0.03860135,  0.02345134],\n",
              "        [-0.01647861,  0.03547031, -0.00173636, ..., -0.04174687,\n",
              "          0.01475912,  0.03691918],\n",
              "        ...,\n",
              "        [-0.05022736,  0.00408579, -0.04426664, ..., -0.07175599,\n",
              "         -0.04893487, -0.04025815],\n",
              "        [ 0.06265867, -0.0442063 , -0.0232531 , ...,  0.02397436,\n",
              "          0.06791759, -0.03721724],\n",
              "        [ 0.0560814 , -0.00109076,  0.03602145, ..., -0.05826365,\n",
              "          0.06142382,  0.06358863]], dtype=float32),\n",
              " array([0., 0., 0., 0., 0., 0., 0., 0., 0., 0., 0., 0., 0., 0., 0., 0., 0.,\n",
              "        0., 0., 0., 0., 0., 0., 0., 0., 0., 0., 0., 0., 0., 0., 0., 0., 0.,\n",
              "        0., 0., 0., 0., 0., 0., 0., 0., 0., 0., 0., 0., 0., 0., 0., 0., 0.,\n",
              "        0., 0., 0., 0., 0., 0., 0., 0., 0., 0., 0., 0., 0., 0., 0., 0., 0.,\n",
              "        0., 0., 0., 0., 0., 0., 0., 0., 0., 0., 0., 0., 0., 0., 0., 0., 0.,\n",
              "        0., 0., 0., 0., 0., 0., 0., 0., 0., 0., 0., 0., 0., 0., 0., 0., 0.,\n",
              "        0., 0., 0., 0., 0., 0., 0., 0., 0., 0., 0., 0., 0., 0., 0., 0., 0.,\n",
              "        0., 0., 0., 0., 0., 0., 0., 0., 0., 0., 0., 0., 0., 0., 0., 0., 0.,\n",
              "        0., 0., 0., 0., 0., 0., 0., 0., 0., 0., 0., 0., 0., 0., 0., 0., 0.,\n",
              "        0., 0., 0., 0., 0., 0., 0., 0., 0., 0., 0., 0., 0., 0., 0., 0., 0.,\n",
              "        0., 0., 0., 0., 0., 0., 0., 0., 0., 0., 0., 0., 0., 0., 0., 0., 0.,\n",
              "        0., 0., 0., 0., 0., 0., 0., 0., 0., 0., 0., 0., 0., 0., 0., 0., 0.,\n",
              "        0., 0., 0., 0., 0., 0., 0., 0., 0., 0., 0., 0., 0., 0., 0., 0., 0.,\n",
              "        0., 0., 0., 0., 0., 0., 0., 0., 0., 0., 0., 0., 0., 0., 0., 0., 0.,\n",
              "        0., 0., 0., 0., 0., 0., 0., 0., 0., 0., 0., 0., 0., 0., 0., 0., 0.,\n",
              "        0., 0., 0., 0., 0., 0., 0., 0., 0., 0., 0., 0., 0., 0., 0., 0., 0.,\n",
              "        0., 0., 0., 0., 0., 0., 0., 0., 0., 0., 0., 0., 0., 0., 0., 0., 0.,\n",
              "        0., 0., 0., 0., 0., 0., 0., 0., 0., 0., 0.], dtype=float32)]"
            ]
          },
          "metadata": {
            "tags": []
          },
          "execution_count": 23
        }
      ]
    },
    {
      "cell_type": "markdown",
      "metadata": {
        "id": "J3E4lM5Wv-LA"
      },
      "source": [
        "#Compile the NN\n",
        "\n"
      ]
    },
    {
      "cell_type": "markdown",
      "metadata": {
        "id": "xJgzepi5wDaw"
      },
      "source": [
        "We need to indicate the : \n",
        "1. Loss function\n",
        "2. Optimizer\n",
        "3. Metrics (\"precision/accuracy\")\n"
      ]
    },
    {
      "cell_type": "code",
      "metadata": {
        "id": "HpCqov6Pv7bG"
      },
      "source": [
        "model.compile(\n",
        "    loss=\"sparse_categorical_crossentropy\",\n",
        "    optimizer=\"sgd\",\n",
        "    metrics=[\"accuracy\"]\n",
        ")"
      ],
      "execution_count": null,
      "outputs": []
    },
    {
      "cell_type": "code",
      "metadata": {
        "id": "XhDuxOXXwllx",
        "outputId": "3f3d3a26-bb09-4cc6-8d17-288b02e785c3",
        "colab": {
          "base_uri": "https://localhost:8080/"
        }
      },
      "source": [
        "training = model.fit(x_train,y_train,epochs=30,validation_data=(x_valid,y_valid))"
      ],
      "execution_count": null,
      "outputs": [
        {
          "output_type": "stream",
          "text": [
            "Epoch 1/30\n",
            "1719/1719 [==============================] - 5s 3ms/step - loss: 0.0147 - accuracy: 0.1007 - val_loss: 0.0010 - val_accuracy: 0.0914\n",
            "Epoch 2/30\n",
            "1719/1719 [==============================] - 4s 3ms/step - loss: 7.3051e-04 - accuracy: 0.1008 - val_loss: 4.8343e-04 - val_accuracy: 0.0914\n",
            "Epoch 3/30\n",
            "1719/1719 [==============================] - 4s 3ms/step - loss: 4.0367e-04 - accuracy: 0.1008 - val_loss: 3.1392e-04 - val_accuracy: 0.0914\n",
            "Epoch 4/30\n",
            "1719/1719 [==============================] - 4s 3ms/step - loss: 2.7689e-04 - accuracy: 0.1008 - val_loss: 2.3141e-04 - val_accuracy: 0.0914\n",
            "Epoch 5/30\n",
            "1719/1719 [==============================] - 5s 3ms/step - loss: 2.0971e-04 - accuracy: 0.1008 - val_loss: 1.8274e-04 - val_accuracy: 0.0914\n",
            "Epoch 6/30\n",
            "1719/1719 [==============================] - 5s 3ms/step - loss: 1.6820e-04 - accuracy: 0.1008 - val_loss: 1.5070e-04 - val_accuracy: 0.0914\n",
            "Epoch 7/30\n",
            "1719/1719 [==============================] - 5s 3ms/step - loss: 1.4010e-04 - accuracy: 0.1008 - val_loss: 1.2802e-04 - val_accuracy: 0.0914\n",
            "Epoch 8/30\n",
            "1719/1719 [==============================] - 4s 3ms/step - loss: 1.1986e-04 - accuracy: 0.1008 - val_loss: 1.1118e-04 - val_accuracy: 0.0914\n",
            "Epoch 9/30\n",
            "1719/1719 [==============================] - 5s 3ms/step - loss: 1.0460e-04 - accuracy: 0.1008 - val_loss: 9.8158e-05 - val_accuracy: 0.0914\n",
            "Epoch 10/30\n",
            "1719/1719 [==============================] - 5s 3ms/step - loss: 9.2698e-05 - accuracy: 0.1008 - val_loss: 8.7820e-05 - val_accuracy: 0.0914\n",
            "Epoch 11/30\n",
            "1719/1719 [==============================] - 4s 3ms/step - loss: 8.3175e-05 - accuracy: 0.1008 - val_loss: 7.9413e-05 - val_accuracy: 0.0914\n",
            "Epoch 12/30\n",
            "1719/1719 [==============================] - 5s 3ms/step - loss: 7.5376e-05 - accuracy: 0.1008 - val_loss: 7.2442e-05 - val_accuracy: 0.0914\n",
            "Epoch 13/30\n",
            "1719/1719 [==============================] - 5s 3ms/step - loss: 6.8879e-05 - accuracy: 0.1008 - val_loss: 6.6573e-05 - val_accuracy: 0.0914\n",
            "Epoch 14/30\n",
            "1719/1719 [==============================] - 5s 3ms/step - loss: 6.3388e-05 - accuracy: 0.1008 - val_loss: 6.1561e-05 - val_accuracy: 0.0914\n",
            "Epoch 15/30\n",
            "1719/1719 [==============================] - 5s 3ms/step - loss: 5.8685e-05 - accuracy: 0.1008 - val_loss: 5.7232e-05 - val_accuracy: 0.0914\n",
            "Epoch 16/30\n",
            "1719/1719 [==============================] - 4s 3ms/step - loss: 5.4615e-05 - accuracy: 0.1008 - val_loss: 5.3458e-05 - val_accuracy: 0.0914\n",
            "Epoch 17/30\n",
            "1719/1719 [==============================] - 5s 3ms/step - loss: 5.1059e-05 - accuracy: 0.1008 - val_loss: 5.0137e-05 - val_accuracy: 0.0914\n",
            "Epoch 18/30\n",
            "1719/1719 [==============================] - 5s 3ms/step - loss: 4.7923e-05 - accuracy: 0.1008 - val_loss: 4.7194e-05 - val_accuracy: 0.0914\n",
            "Epoch 19/30\n",
            "1719/1719 [==============================] - 5s 3ms/step - loss: 4.5143e-05 - accuracy: 0.1008 - val_loss: 4.4569e-05 - val_accuracy: 0.0914\n",
            "Epoch 20/30\n",
            "1719/1719 [==============================] - 5s 3ms/step - loss: 4.2660e-05 - accuracy: 0.1008 - val_loss: 4.2213e-05 - val_accuracy: 0.0914\n",
            "Epoch 21/30\n",
            "1719/1719 [==============================] - 5s 3ms/step - loss: 4.0427e-05 - accuracy: 0.1008 - val_loss: 4.0087e-05 - val_accuracy: 0.0914\n",
            "Epoch 22/30\n",
            "1719/1719 [==============================] - 5s 3ms/step - loss: 3.8411e-05 - accuracy: 0.1008 - val_loss: 3.8161e-05 - val_accuracy: 0.0914\n",
            "Epoch 23/30\n",
            "1719/1719 [==============================] - 5s 3ms/step - loss: 3.6582e-05 - accuracy: 0.1008 - val_loss: 3.6407e-05 - val_accuracy: 0.0914\n",
            "Epoch 24/30\n",
            "1719/1719 [==============================] - 5s 3ms/step - loss: 3.4916e-05 - accuracy: 0.1008 - val_loss: 3.4802e-05 - val_accuracy: 0.0914\n",
            "Epoch 25/30\n",
            "1719/1719 [==============================] - 5s 3ms/step - loss: 3.3390e-05 - accuracy: 0.1008 - val_loss: 3.3328e-05 - val_accuracy: 0.0914\n",
            "Epoch 26/30\n",
            "1719/1719 [==============================] - 5s 3ms/step - loss: 3.1988e-05 - accuracy: 0.1008 - val_loss: 3.1969e-05 - val_accuracy: 0.0914\n",
            "Epoch 27/30\n",
            "1719/1719 [==============================] - 5s 3ms/step - loss: 3.0694e-05 - accuracy: 0.1008 - val_loss: 3.0715e-05 - val_accuracy: 0.0914\n",
            "Epoch 28/30\n",
            "1719/1719 [==============================] - 5s 3ms/step - loss: 2.9500e-05 - accuracy: 0.1008 - val_loss: 2.9554e-05 - val_accuracy: 0.0914\n",
            "Epoch 29/30\n",
            "1719/1719 [==============================] - 5s 3ms/step - loss: 2.8394e-05 - accuracy: 0.1008 - val_loss: 2.8474e-05 - val_accuracy: 0.0914\n",
            "Epoch 30/30\n",
            "1719/1719 [==============================] - 5s 3ms/step - loss: 2.7365e-05 - accuracy: 0.1008 - val_loss: 2.7469e-05 - val_accuracy: 0.0914\n"
          ],
          "name": "stdout"
        }
      ]
    },
    {
      "cell_type": "code",
      "metadata": {
        "id": "gVvq1k7-4ENN"
      },
      "source": [
        "import pandas as pd\n",
        "import matplotlib.pyplot as plt"
      ],
      "execution_count": null,
      "outputs": []
    },
    {
      "cell_type": "code",
      "metadata": {
        "id": "N-re0Wcn4Hxl",
        "outputId": "32afc873-cd12-4bd5-9924-abc5c29023e7",
        "colab": {
          "base_uri": "https://localhost:8080/"
        }
      },
      "source": [
        "model.evaluate(X_test,y_test)"
      ],
      "execution_count": null,
      "outputs": [
        {
          "output_type": "stream",
          "text": [
            "313/313 [==============================] - 1s 3ms/step - loss: 7468.7026 - accuracy: 0.1000\n"
          ],
          "name": "stdout"
        },
        {
          "output_type": "execute_result",
          "data": {
            "text/plain": [
              "[7468.70263671875, 0.10000000149011612]"
            ]
          },
          "metadata": {
            "tags": []
          },
          "execution_count": 27
        }
      ]
    },
    {
      "cell_type": "code",
      "metadata": {
        "id": "fqZg6bci4LKM"
      },
      "source": [
        "X_new=X_test[:3]/255."
      ],
      "execution_count": null,
      "outputs": []
    },
    {
      "cell_type": "code",
      "metadata": {
        "id": "8ODWiYKh4OwT"
      },
      "source": [
        "y_probability = model.predict(X_new)"
      ],
      "execution_count": null,
      "outputs": []
    },
    {
      "cell_type": "code",
      "metadata": {
        "id": "9t_r_rx_4SYp",
        "outputId": "79fd2e83-16af-48b1-b265-5ad65134d7a4",
        "colab": {
          "base_uri": "https://localhost:8080/"
        }
      },
      "source": [
        "print(y_probability)"
      ],
      "execution_count": null,
      "outputs": [
        {
          "output_type": "stream",
          "text": [
            "[[1.0000000e+00 9.7291224e-11 4.3461477e-11 3.7217989e-11 7.6543681e-11\n",
            "  1.2052231e-11 2.5043804e-11 3.0520642e-11 6.1172081e-11 5.6066467e-12]\n",
            " [1.0000000e+00 2.4566136e-24 1.2926292e-25 5.2104583e-25 1.7127699e-24\n",
            "  2.5939660e-26 2.0296696e-25 5.9831703e-25 1.0067971e-24 8.4542069e-27]\n",
            " [1.0000000e+00 1.7837625e-13 3.9269206e-14 4.4445926e-14 1.7354168e-13\n",
            "  1.6329801e-14 4.1500606e-14 5.0292032e-14 7.1514572e-14 7.9751023e-15]]\n"
          ],
          "name": "stdout"
        }
      ]
    },
    {
      "cell_type": "code",
      "metadata": {
        "id": "gTFN_wqP4Yj3",
        "outputId": "fec9e8eb-85f1-401b-a7d2-0b59b0f83d99",
        "colab": {
          "base_uri": "https://localhost:8080/"
        }
      },
      "source": [
        "model.predict_classes(X_new)"
      ],
      "execution_count": null,
      "outputs": [
        {
          "output_type": "stream",
          "text": [
            "WARNING:tensorflow:From <ipython-input-31-ab6b2b16fced>:1: Sequential.predict_classes (from tensorflow.python.keras.engine.sequential) is deprecated and will be removed after 2021-01-01.\n",
            "Instructions for updating:\n",
            "Please use instead:* `np.argmax(model.predict(x), axis=-1)`,   if your model does multi-class classification   (e.g. if it uses a `softmax` last-layer activation).* `(model.predict(x) > 0.5).astype(\"int32\")`,   if your model does binary classification   (e.g. if it uses a `sigmoid` last-layer activation).\n"
          ],
          "name": "stdout"
        },
        {
          "output_type": "execute_result",
          "data": {
            "text/plain": [
              "array([0, 0, 0])"
            ]
          },
          "metadata": {
            "tags": []
          },
          "execution_count": 31
        }
      ]
    },
    {
      "cell_type": "code",
      "metadata": {
        "id": "UbQvc5G04eJ1",
        "outputId": "1e3890ef-5c1f-4fda-cbde-bd7921807aa4",
        "colab": {
          "base_uri": "https://localhost:8080/",
          "height": 269
        }
      },
      "source": [
        "plt.figure()\n",
        "plt.imshow(X_new[0])\n",
        "plt.colorbar()\n",
        "plt.grid(False)\n",
        "plt.show()"
      ],
      "execution_count": null,
      "outputs": [
        {
          "output_type": "display_data",
          "data": {
            "image/png": "[encoded data removed]",
            "text/plain": [
              "<Figure size 432x288 with 2 Axes>"
            ]
          },
          "metadata": {
            "tags": [],
            "needs_background": "light"
          }
        }
      ]
    },
    {
      "cell_type": "code",
      "metadata": {
        "id": "Red4-JDL4hXD",
        "outputId": "0a5824c3-a833-4141-b3f2-6be229b10ba7",
        "colab": {
          "base_uri": "https://localhost:8080/",
          "height": 35
        }
      },
      "source": [
        "class_names[0]"
      ],
      "execution_count": null,
      "outputs": [
        {
          "output_type": "execute_result",
          "data": {
            "application/vnd.google.colaboratory.intrinsic+json": {
              "type": "string"
            },
            "text/plain": [
              "'T-shirt/top'"
            ]
          },
          "metadata": {
            "tags": []
          },
          "execution_count": 33
        }
      ]
    },
    {
      "cell_type": "markdown",
      "metadata": {
        "id": "9df25YZT8svg"
      },
      "source": [
        "# Regression"
      ]
    },
    {
      "cell_type": "code",
      "metadata": {
        "id": "WeWdkyws8vVp"
      },
      "source": [
        "from sklearn.datasets import fetch_california_housing"
      ],
      "execution_count": null,
      "outputs": []
    },
    {
      "cell_type": "code",
      "metadata": {
        "id": "VAMgVT8V8-4Q"
      },
      "source": [
        "from sklearn.model_selection import train_test_split"
      ],
      "execution_count": null,
      "outputs": []
    },
    {
      "cell_type": "code",
      "metadata": {
        "id": "BLDPhbAa9RYC"
      },
      "source": [
        "from sklearn.preprocessing import StandardScaler"
      ],
      "execution_count": null,
      "outputs": []
    },
    {
      "cell_type": "code",
      "metadata": {
        "id": "jjRhOaxU-6ID",
        "outputId": "71e7b2ef-8a08-4a27-ea2d-83cb69d2b3f8",
        "colab": {
          "base_uri": "https://localhost:8080/"
        }
      },
      "source": [
        "houses = fetch_california_housing()"
      ],
      "execution_count": null,
      "outputs": [
        {
          "output_type": "stream",
          "text": [
            "Downloading Cal. housing from https://ndownloader.figshare.com/files/5976036 to /root/scikit_learn_data\n"
          ],
          "name": "stderr"
        }
      ]
    },
    {
      "cell_type": "code",
      "metadata": {
        "id": "SL72q96g-9eK"
      },
      "source": [
        "X_train_full, X_test, y_train_full, y_test = train_test_split(houses.data, houses.target)\n"
      ],
      "execution_count": null,
      "outputs": []
    },
    {
      "cell_type": "code",
      "metadata": {
        "id": "6-IHbaFV_K_r"
      },
      "source": [
        "scaler = StandardScaler()"
      ],
      "execution_count": null,
      "outputs": []
    },
    {
      "cell_type": "code",
      "metadata": {
        "id": "_b90FssT_PkI"
      },
      "source": [
        "x_train, X_valid, y_train, y_valid = train_test_split(X_train_full, y_train_full)"
      ],
      "execution_count": null,
      "outputs": []
    },
    {
      "cell_type": "code",
      "metadata": {
        "id": "ROnvZgPO_ueT"
      },
      "source": [
        "x_train = scaler.fit_transform(x_train)"
      ],
      "execution_count": null,
      "outputs": []
    },
    {
      "cell_type": "code",
      "metadata": {
        "id": "tZ_scYQH_1Hf"
      },
      "source": [
        "x_valid = scaler.fit_transform(X_valid)\n"
      ],
      "execution_count": null,
      "outputs": []
    },
    {
      "cell_type": "code",
      "metadata": {
        "id": "MUw-Q-9pADug"
      },
      "source": [
        "X_test = scaler.fit_transform(X_test)"
      ],
      "execution_count": null,
      "outputs": []
    },
    {
      "cell_type": "code",
      "metadata": {
        "id": "FKZJkWZsAJN3"
      },
      "source": [
        "import tensorflow as tf"
      ],
      "execution_count": null,
      "outputs": []
    },
    {
      "cell_type": "code",
      "metadata": {
        "id": "RRmhw7VpASFW"
      },
      "source": [
        "from tensorflow import keras"
      ],
      "execution_count": null,
      "outputs": []
    },
    {
      "cell_type": "markdown",
      "metadata": {
        "id": "XT0YiEg0AWE2"
      },
      "source": [
        "# Neural net"
      ]
    },
    {
      "cell_type": "markdown",
      "metadata": {
        "id": "zgFVSPo7rjOO"
      },
      "source": [
        "https://www.tensorflow.org/api_docs/python/tf/keras/Model \n",
        "\n",
        "**Model** groups layers into an object with training and inference features. "
      ]
    },
    {
      "cell_type": "code",
      "metadata": {
        "id": "_Fnu093oAYpH"
      },
      "source": [
        "model = keras.models.Sequential(\n",
        "    [\n",
        "     keras.layers.Dense(30, activation=\"relu\", input_shape=x_train.shape[1:]),\n",
        "     keras.layers.Dense(1) # only 1 output wanted so we put only 1 ouput neuron \n",
        "     # we want to predict only the price\n",
        "    ]\n",
        ")"
      ],
      "execution_count": null,
      "outputs": []
    },
    {
      "cell_type": "markdown",
      "metadata": {
        "id": "GYmrQkzBvLx5"
      },
      "source": [
        "Once the model is created, you can config the model with losses and metrics with model.compile(), train the model with model.fit(), or use the model to do prediction with model.predict()."
      ]
    },
    {
      "cell_type": "markdown",
      "metadata": {
        "id": "_V9d-JhHvjPl"
      },
      "source": [
        "**optimizer** : String (name of optimizer) or optimizer instance. \n",
        "\n",
        "loss **bold text** : Loss instance is used and reduction is set to NONE, return value has the shape [batch_size, d0, .. dN-1] ie. per-sample or per-timestep loss values; otherwise, it is a scalar. If the model has multiple outputs, you can use a different loss on each output by passing a dictionary or a list of losses. The loss value that will be minimized by the model will then be the sum of all individual losses. \n",
        "\n",
        "https://www.tensorflow.org/api_docs/python/tf/keras/Model \n"
      ]
    },
    {
      "cell_type": "code",
      "metadata": {
        "id": "RpW0pjaXBOt0"
      },
      "source": [
        "model.compile(\n",
        "    loss=\"mean_squared_error\",\n",
        "    optimizer=\"adam\"\n",
        ")"
      ],
      "execution_count": null,
      "outputs": []
    },
    {
      "cell_type": "code",
      "metadata": {
        "id": "ab49n1K3BaUU",
        "outputId": "51b2e0c1-ae88-496b-eb78-abc6ecf46a42",
        "colab": {
          "base_uri": "https://localhost:8080/"
        }
      },
      "source": [
        "model.evaluate(X_test, y_test)"
      ],
      "execution_count": null,
      "outputs": [
        {
          "output_type": "stream",
          "text": [
            "162/162 [==============================] - 0s 2ms/step - loss: 8.3297\n"
          ],
          "name": "stdout"
        },
        {
          "output_type": "execute_result",
          "data": {
            "text/plain": [
              "8.329715728759766"
            ]
          },
          "metadata": {
            "tags": []
          },
          "execution_count": 50
        }
      ]
    },
    {
      "cell_type": "code",
      "metadata": {
        "id": "-lyj3vgSBfkB",
        "outputId": "13902450-7b0f-4917-98fc-10f9e32ddc40",
        "colab": {
          "base_uri": "https://localhost:8080/"
        }
      },
      "source": [
        "X_test[:2]"
      ],
      "execution_count": null,
      "outputs": [
        {
          "output_type": "execute_result",
          "data": {
            "text/plain": [
              "array([[ 0.81361135, -0.92677477,  0.01075281, -0.12138578, -0.01870895,\n",
              "        -0.03665968, -0.82224862,  0.86154113],\n",
              "       [-1.14372457, -1.40120303, -0.78935324, -0.12607029, -0.4322874 ,\n",
              "        -0.07650466, -1.42017387,  1.26666983]])"
            ]
          },
          "metadata": {
            "tags": []
          },
          "execution_count": 51
        }
      ]
    },
    {
      "cell_type": "code",
      "metadata": {
        "id": "zuingHzTBija",
        "outputId": "8eea11ea-485d-4839-d423-b62173c93e9e",
        "colab": {
          "base_uri": "https://localhost:8080/"
        }
      },
      "source": [
        "y_test[:2]"
      ],
      "execution_count": null,
      "outputs": [
        {
          "output_type": "execute_result",
          "data": {
            "text/plain": [
              "array([1.903, 1.417])"
            ]
          },
          "metadata": {
            "tags": []
          },
          "execution_count": 52
        }
      ]
    },
    {
      "cell_type": "code",
      "metadata": {
        "id": "h8zqy-4krdrh",
        "outputId": "e300d686-d6d8-45a0-92d9-d9a829a028aa",
        "colab": {
          "base_uri": "https://localhost:8080/"
        }
      },
      "source": [
        "model.predict(X_test[:2])"
      ],
      "execution_count": null,
      "outputs": [
        {
          "output_type": "execute_result",
          "data": {
            "text/plain": [
              "array([[-0.0274593],\n",
              "       [ 0.3688117]], dtype=float32)"
            ]
          },
          "metadata": {
            "tags": []
          },
          "execution_count": 53
        }
      ]
    },
    {
      "cell_type": "code",
      "metadata": {
        "id": "CCtLvKuxre-M",
        "outputId": "e1c4179b-f75e-46e6-dda2-0fa14f61a14e",
        "colab": {
          "base_uri": "https://localhost:8080/"
        }
      },
      "source": [
        "model.predict(X_test[:2])"
      ],
      "execution_count": null,
      "outputs": [
        {
          "output_type": "execute_result",
          "data": {
            "text/plain": [
              "array([[-0.0274593],\n",
              "       [ 0.3688117]], dtype=float32)"
            ]
          },
          "metadata": {
            "tags": []
          },
          "execution_count": 54
        }
      ]
    }
  ]
}