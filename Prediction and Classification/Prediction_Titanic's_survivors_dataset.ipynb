{
  "nbformat": 4,
  "nbformat_minor": 0,
  "metadata": {
    "colab": {
      "provenance": []
    },
    "kernelspec": {
      "name": "python3",
      "display_name": "Python 3"
    }
  },
  "cells": [
    {
      "cell_type": "markdown",
      "metadata": {
        "id": "oDSU_uKpZxzX"
      },
      "source": [
        "We are trying to predict the survivors of the titanic with the data of the passengers. \n",
        "\n",
        "Our goal is to the use Ridge and Lasso regression. "
      ]
    },
    {
      "cell_type": "markdown",
      "metadata": {
        "id": "-crnDz9OdnRz"
      },
      "source": [
        "## Importation librairies \n"
      ]
    },
    {
      "cell_type": "code",
      "metadata": {
        "id": "-_wPw7iCYyGn"
      },
      "source": [
        "# importation librairies \n",
        "\n",
        "#basic libraries\n",
        "import numpy as np \n",
        "import pandas as pd \n",
        "import os \n",
        "\n",
        "# graphic libraries \n",
        "import matplotlib\n",
        "import matplotlib.pyplot as plt \n",
        "import seaborn as sns\n",
        "\n",
        "# (from the teacher's notebook)\n",
        "np.random.seed(42)\n",
        "\n",
        "# from kaggle : https://www.kaggle.com/mnassrib/titanic-logistic-regression-with-python \n",
        "sns.set(style=\"white\") #white background style for seaborn plots\n",
        "sns.set(style=\"whitegrid\",color_codes=True)\n",
        "\n",
        "# in order to classify the training and testing set \n",
        "from sklearn.model_selection import StratifiedShuffleSplit \n"
      ],
      "execution_count": null,
      "outputs": []
    },
    {
      "cell_type": "markdown",
      "metadata": {
        "id": "uwbbc6XodtdM"
      },
      "source": [
        "## Download train set from Kaggle "
      ]
    },
    {
      "cell_type": "code",
      "metadata": {
        "id": "rhwBb4zfZww7",
        "colab": {
          "base_uri": "https://localhost:8080/",
          "height": 467
        },
        "outputId": "fe5f45fc-c206-4808-b544-2e96daf24082"
      },
      "source": [
        "# We want to download the data from Kaggle \n",
        "\n",
        "data = pd.read_csv(\"train.csv\",delimiter=\",\")\n",
        "\n",
        "# preview train data\n",
        "data.head()\n"
      ],
      "execution_count": null,
      "outputs": [
        {
          "output_type": "execute_result",
          "data": {
            "text/html": [
              "<div>\n",
              "<style scoped>\n",
              "    .dataframe tbody tr th:only-of-type {\n",
              "        vertical-align: middle;\n",
              "    }\n",
              "\n",
              "    .dataframe tbody tr th {\n",
              "        vertical-align: top;\n",
              "    }\n",
              "\n",
              "    .dataframe thead th {\n",
              "        text-align: right;\n",
              "    }\n",
              "</style>\n",
              "<table border=\"1\" class=\"dataframe\">\n",
              "  <thead>\n",
              "    <tr style=\"text-align: right;\">\n",
              "      <th></th>\n",
              "      <th>PassengerId</th>\n",
              "      <th>Survived</th>\n",
              "      <th>Pclass</th>\n",
              "      <th>Name</th>\n",
              "      <th>Sex</th>\n",
              "      <th>Age</th>\n",
              "      <th>SibSp</th>\n",
              "      <th>Parch</th>\n",
              "      <th>Ticket</th>\n",
              "      <th>Fare</th>\n",
              "      <th>Cabin</th>\n",
              "      <th>Embarked</th>\n",
              "    </tr>\n",
              "  </thead>\n",
              "  <tbody>\n",
              "    <tr>\n",
              "      <th>0</th>\n",
              "      <td>1</td>\n",
              "      <td>0</td>\n",
              "      <td>3</td>\n",
              "      <td>Braund, Mr. Owen Harris</td>\n",
              "      <td>male</td>\n",
              "      <td>22.0</td>\n",
              "      <td>1</td>\n",
              "      <td>0</td>\n",
              "      <td>A/5 21171</td>\n",
              "      <td>7.2500</td>\n",
              "      <td>NaN</td>\n",
              "      <td>S</td>\n",
              "    </tr>\n",
              "    <tr>\n",
              "      <th>1</th>\n",
              "      <td>2</td>\n",
              "      <td>1</td>\n",
              "      <td>1</td>\n",
              "      <td>Cumings, Mrs. John Bradley (Florence Briggs Th...</td>\n",
              "      <td>female</td>\n",
              "      <td>38.0</td>\n",
              "      <td>1</td>\n",
              "      <td>0</td>\n",
              "      <td>PC 17599</td>\n",
              "      <td>71.2833</td>\n",
              "      <td>C85</td>\n",
              "      <td>C</td>\n",
              "    </tr>\n",
              "    <tr>\n",
              "      <th>2</th>\n",
              "      <td>3</td>\n",
              "      <td>1</td>\n",
              "      <td>3</td>\n",
              "      <td>Heikkinen, Miss. Laina</td>\n",
              "      <td>female</td>\n",
              "      <td>26.0</td>\n",
              "      <td>0</td>\n",
              "      <td>0</td>\n",
              "      <td>STON/O2. 3101282</td>\n",
              "      <td>7.9250</td>\n",
              "      <td>NaN</td>\n",
              "      <td>S</td>\n",
              "    </tr>\n",
              "    <tr>\n",
              "      <th>3</th>\n",
              "      <td>4</td>\n",
              "      <td>1</td>\n",
              "      <td>1</td>\n",
              "      <td>Futrelle, Mrs. Jacques Heath (Lily May Peel)</td>\n",
              "      <td>female</td>\n",
              "      <td>35.0</td>\n",
              "      <td>1</td>\n",
              "      <td>0</td>\n",
              "      <td>113803</td>\n",
              "      <td>53.1000</td>\n",
              "      <td>C123</td>\n",
              "      <td>S</td>\n",
              "    </tr>\n",
              "    <tr>\n",
              "      <th>4</th>\n",
              "      <td>5</td>\n",
              "      <td>0</td>\n",
              "      <td>3</td>\n",
              "      <td>Allen, Mr. William Henry</td>\n",
              "      <td>male</td>\n",
              "      <td>35.0</td>\n",
              "      <td>0</td>\n",
              "      <td>0</td>\n",
              "      <td>373450</td>\n",
              "      <td>8.0500</td>\n",
              "      <td>NaN</td>\n",
              "      <td>S</td>\n",
              "    </tr>\n",
              "  </tbody>\n",
              "</table>\n",
              "</div>"
            ],
            "text/plain": [
              "   PassengerId  Survived  Pclass  ...     Fare Cabin  Embarked\n",
              "0            1         0       3  ...   7.2500   NaN         S\n",
              "1            2         1       1  ...  71.2833   C85         C\n",
              "2            3         1       3  ...   7.9250   NaN         S\n",
              "3            4         1       1  ...  53.1000  C123         S\n",
              "4            5         0       3  ...   8.0500   NaN         S\n",
              "\n",
              "[5 rows x 12 columns]"
            ]
          },
          "metadata": {
            "tags": []
          },
          "execution_count": 46
        }
      ]
    },
    {
      "cell_type": "code",
      "metadata": {
        "id": "RiSb_s9UdlBT",
        "colab": {
          "base_uri": "https://localhost:8080/",
          "height": 34
        },
        "outputId": "fa463dc3-c187-459b-dd50-fc21783e3fcf"
      },
      "source": [
        "\n",
        "# number of sample in the data set \n",
        "print('The number of samples into the train data is {}.'.format(data.shape[0]))"
      ],
      "execution_count": null,
      "outputs": [
        {
          "output_type": "stream",
          "text": [
            "The number of samples into the train data is 891.\n"
          ],
          "name": "stdout"
        }
      ]
    },
    {
      "cell_type": "markdown",
      "metadata": {
        "id": "P7zkKjvfeV73"
      },
      "source": [
        "## Checking the data quality and the missing value assessment \n"
      ]
    },
    {
      "cell_type": "code",
      "metadata": {
        "id": "YLqUFY5ZedjJ",
        "colab": {
          "base_uri": "https://localhost:8080/",
          "height": 243
        },
        "outputId": "d426ec64-6ddc-4dad-e23e-af8995c95c31"
      },
      "source": [
        "# check missing values in train data\n",
        "data.isnull().sum()"
      ],
      "execution_count": null,
      "outputs": [
        {
          "output_type": "execute_result",
          "data": {
            "text/plain": [
              "PassengerId      0\n",
              "Survived         0\n",
              "Pclass           0\n",
              "Name             0\n",
              "Sex              0\n",
              "Age            177\n",
              "SibSp            0\n",
              "Parch            0\n",
              "Ticket           0\n",
              "Fare             0\n",
              "Cabin          687\n",
              "Embarked         2\n",
              "dtype: int64"
            ]
          },
          "metadata": {
            "tags": []
          },
          "execution_count": 48
        }
      ]
    },
    {
      "cell_type": "markdown",
      "metadata": {
        "id": "DCiy3bWFejsa"
      },
      "source": [
        "We can see that the age section and the cabin one have respectively 177 and 687 missing values. We can take this 2 sections into account, otherwise the analysis would be inexact. \n"
      ]
    },
    {
      "cell_type": "markdown",
      "metadata": {
        "id": "VaO9c_5tgj1b"
      },
      "source": [
        "### Missing values : Ages and Cabin \n"
      ]
    },
    {
      "cell_type": "code",
      "metadata": {
        "id": "FbxurIqFfFcG",
        "colab": {
          "base_uri": "https://localhost:8080/",
          "height": 340
        },
        "outputId": "95303a1d-e090-4438-f5c7-a077089897c4"
      },
      "source": [
        "# percent of missing \"Age\" \n",
        "print('Percent of missing \"Age\" records is %.2f%%' %((data['Age'].isnull().sum()/data.shape[0])*100))\n",
        "\n",
        "# mean age\n",
        "print('The mean of \"Age\" is %.2f' %(data[\"Age\"].mean(skipna=True)))\n",
        "# median age\n",
        "print('The median of \"Age\" is %.2f' %(data[\"Age\"].median(skipna=True)))\n",
        "\n",
        "# the plot of the Age data in teh train set \n",
        "ax = data[\"Age\"].hist(bins=15, density=True, stacked=True, color='pink', alpha=0.6)\n",
        "data[\"Age\"].plot(kind='density', color='purple')\n",
        "ax.set(xlabel='Age')\n",
        "plt.xlim(-10,85)\n",
        "plt.show()\n"
      ],
      "execution_count": null,
      "outputs": [
        {
          "output_type": "stream",
          "text": [
            "Percent of missing \"Age\" records is 19.87%\n",
            "The mean of \"Age\" is 29.70\n",
            "The median of \"Age\" is 28.00\n"
          ],
          "name": "stdout"
        },
        {
          "output_type": "display_data",
          "data": {
            "image/png": "[encoded data removed]",
            "text/plain": [
              "<Figure size 432x288 with 1 Axes>"
            ]
          },
          "metadata": {
            "tags": []
          }
        }
      ]
    },
    {
      "cell_type": "markdown",
      "metadata": {
        "id": "KOeumAW5fp7-"
      },
      "source": [
        "~20% of entries for passenger age are missing. Let's see what the 'Age' variable looks like in general.\n"
      ]
    },
    {
      "cell_type": "code",
      "metadata": {
        "id": "V2zkC2cXfr9E",
        "colab": {
          "base_uri": "https://localhost:8080/",
          "height": 34
        },
        "outputId": "b5aeeffe-a5a5-4368-d10b-d6ef5a821649"
      },
      "source": [
        "# percent of missing \"Cabin\" \n",
        "print('Percent of missing \"Cabin\" records is %.2f%%' %((data['Cabin'].isnull().sum()/data.shape[0])*100))"
      ],
      "execution_count": null,
      "outputs": [
        {
          "output_type": "stream",
          "text": [
            "Percent of missing \"Cabin\" records is 77.10%\n"
          ],
          "name": "stdout"
        }
      ]
    },
    {
      "cell_type": "markdown",
      "metadata": {
        "id": "y3qPih3Ag8Gd"
      },
      "source": [
        "### Final adjustments to data \n"
      ]
    },
    {
      "cell_type": "markdown",
      "metadata": {
        "id": "JAibPu1chKHQ"
      },
      "source": [
        "\n",
        "\n",
        "Based on my assessment of the missing values in the dataset, we make the following changes to the data:\n",
        "\n",
        "    - If \"Age\" is missing for a given row, we impute with 28 (median age).\n",
        "    - we ignore \"Cabin\" as a variable. There are too many missing values for imputation. Based on the information available, it appears that this value is associated with the passenger's class and fare paid.\n",
        "\n"
      ]
    },
    {
      "cell_type": "code",
      "metadata": {
        "id": "ZzEDxpNUhEOy",
        "colab": {
          "base_uri": "https://localhost:8080/",
          "height": 364
        },
        "outputId": "290e44d6-01a3-478e-f025-11457ba1f359"
      },
      "source": [
        "train = data.copy()\n",
        "train[\"Age\"].fillna(data[\"Age\"].median(skipna=True), inplace=True)\n",
        "train[\"Embarked\"].fillna(data['Embarked'].value_counts().idxmax(), inplace=True)\n",
        "train.drop('Cabin', axis=1, inplace=True)\n",
        "\n",
        "# check missing values in adjusted train data\n",
        "print(train.isnull().sum())\n",
        "\n",
        "# preview adjusted train data\n",
        "print(train.head())"
      ],
      "execution_count": null,
      "outputs": [
        {
          "output_type": "stream",
          "text": [
            "PassengerId    0\n",
            "Survived       0\n",
            "Pclass         0\n",
            "Name           0\n",
            "Sex            0\n",
            "Age            0\n",
            "SibSp          0\n",
            "Parch          0\n",
            "Ticket         0\n",
            "Fare           0\n",
            "Embarked       0\n",
            "dtype: int64\n",
            "   PassengerId  Survived  Pclass  ...            Ticket     Fare  Embarked\n",
            "0            1         0       3  ...         A/5 21171   7.2500         S\n",
            "1            2         1       1  ...          PC 17599  71.2833         C\n",
            "2            3         1       3  ...  STON/O2. 3101282   7.9250         S\n",
            "3            4         1       1  ...            113803  53.1000         S\n",
            "4            5         0       3  ...            373450   8.0500         S\n",
            "\n",
            "[5 rows x 11 columns]\n"
          ],
          "name": "stdout"
        }
      ]
    },
    {
      "cell_type": "markdown",
      "metadata": {
        "id": "f7EkP8GoiFMb"
      },
      "source": [
        "Let's see how the data of the age section were adjusted \n"
      ]
    },
    {
      "cell_type": "code",
      "metadata": {
        "id": "z3zombnch6k8",
        "colab": {
          "base_uri": "https://localhost:8080/",
          "height": 468
        },
        "outputId": "a47d9ae4-20c6-4578-cde7-8bd5f097cd35"
      },
      "source": [
        "plt.figure(figsize=(15,8))\n",
        "\n",
        "ax = data[\"Age\"].hist(bins=15, density=True, stacked=True, color='yellow', alpha=0.6)\n",
        "data[\"Age\"].plot(kind='density', color='red')\n",
        "\n",
        "ax = train[\"Age\"].hist(bins=15, density=True, stacked=True, color='pink', alpha=0.5)\n",
        "train[\"Age\"].plot(kind='density', color='purple')\n",
        "ax.legend(['Raw Age', 'Adjusted Age'])\n",
        "ax.set(xlabel='Age')\n",
        "plt.xlim(-10,85)\n",
        "plt.show()"
      ],
      "execution_count": null,
      "outputs": [
        {
          "output_type": "display_data",
          "data": {
            "image/png": "[encoded data removed]",
            "text/plain": [
              "<Figure size 1080x576 with 1 Axes>"
            ]
          },
          "metadata": {
            "tags": []
          }
        }
      ]
    },
    {
      "cell_type": "markdown",
      "metadata": {
        "id": "0osC42_IvoEr"
      },
      "source": [
        "## Visualisation "
      ]
    },
    {
      "cell_type": "code",
      "metadata": {
        "id": "oHWtrIPHvqZT",
        "colab": {
          "base_uri": "https://localhost:8080/",
          "height": 330
        },
        "outputId": "90f6f565-f3fa-47a0-9154-42d79d8df324"
      },
      "source": [
        "\n",
        "\n",
        "cat_var = [\"Survived\", \"Pclass\",\"Sex\",\"Embarked\"]\n",
        "train[cat_var] = train[cat_var].astype('category')\n",
        "train.info()"
      ],
      "execution_count": null,
      "outputs": [
        {
          "output_type": "stream",
          "text": [
            "<class 'pandas.core.frame.DataFrame'>\n",
            "RangeIndex: 891 entries, 0 to 890\n",
            "Data columns (total 11 columns):\n",
            " #   Column       Non-Null Count  Dtype   \n",
            "---  ------       --------------  -----   \n",
            " 0   PassengerId  891 non-null    int64   \n",
            " 1   Survived     891 non-null    category\n",
            " 2   Pclass       891 non-null    category\n",
            " 3   Name         891 non-null    object  \n",
            " 4   Sex          891 non-null    category\n",
            " 5   Age          891 non-null    float64 \n",
            " 6   SibSp        891 non-null    int64   \n",
            " 7   Parch        891 non-null    int64   \n",
            " 8   Ticket       891 non-null    object  \n",
            " 9   Fare         891 non-null    float64 \n",
            " 10  Embarked     891 non-null    category\n",
            "dtypes: category(4), float64(2), int64(3), object(2)\n",
            "memory usage: 52.7+ KB\n"
          ],
          "name": "stdout"
        }
      ]
    },
    {
      "cell_type": "code",
      "metadata": {
        "id": "PCNtxi9dVkkl",
        "colab": {
          "base_uri": "https://localhost:8080/",
          "height": 642
        },
        "outputId": "5dcee150-61d1-4006-8327-5616663ec43f"
      },
      "source": [
        "import matplotlib.pyplot as plt \n",
        "\n",
        "train.hist(bins=12, figsize=(20,15))\n",
        "plt.show()"
      ],
      "execution_count": null,
      "outputs": [
        {
          "output_type": "display_data",
          "data": {
            "image/png": "[encoded data removed]",
            "text/plain": [
              "<Figure size 1440x1080 with 6 Axes>"
            ]
          },
          "metadata": {
            "tags": []
          }
        }
      ]
    },
    {
      "cell_type": "code",
      "metadata": {
        "id": "NAnH77HnWUmI",
        "colab": {
          "base_uri": "https://localhost:8080/",
          "height": 300
        },
        "outputId": "b9508b75-0376-4185-9296-58fd9e0da903"
      },
      "source": [
        "train.describe()"
      ],
      "execution_count": null,
      "outputs": [
        {
          "output_type": "execute_result",
          "data": {
            "text/html": [
              "<div>\n",
              "<style scoped>\n",
              "    .dataframe tbody tr th:only-of-type {\n",
              "        vertical-align: middle;\n",
              "    }\n",
              "\n",
              "    .dataframe tbody tr th {\n",
              "        vertical-align: top;\n",
              "    }\n",
              "\n",
              "    .dataframe thead th {\n",
              "        text-align: right;\n",
              "    }\n",
              "</style>\n",
              "<table border=\"1\" class=\"dataframe\">\n",
              "  <thead>\n",
              "    <tr style=\"text-align: right;\">\n",
              "      <th></th>\n",
              "      <th>PassengerId</th>\n",
              "      <th>Age</th>\n",
              "      <th>SibSp</th>\n",
              "      <th>Parch</th>\n",
              "      <th>Fare</th>\n",
              "    </tr>\n",
              "  </thead>\n",
              "  <tbody>\n",
              "    <tr>\n",
              "      <th>count</th>\n",
              "      <td>891.000000</td>\n",
              "      <td>891.000000</td>\n",
              "      <td>891.000000</td>\n",
              "      <td>891.000000</td>\n",
              "      <td>891.000000</td>\n",
              "    </tr>\n",
              "    <tr>\n",
              "      <th>mean</th>\n",
              "      <td>446.000000</td>\n",
              "      <td>29.361582</td>\n",
              "      <td>0.523008</td>\n",
              "      <td>0.381594</td>\n",
              "      <td>32.204208</td>\n",
              "    </tr>\n",
              "    <tr>\n",
              "      <th>std</th>\n",
              "      <td>257.353842</td>\n",
              "      <td>13.019697</td>\n",
              "      <td>1.102743</td>\n",
              "      <td>0.806057</td>\n",
              "      <td>49.693429</td>\n",
              "    </tr>\n",
              "    <tr>\n",
              "      <th>min</th>\n",
              "      <td>1.000000</td>\n",
              "      <td>0.420000</td>\n",
              "      <td>0.000000</td>\n",
              "      <td>0.000000</td>\n",
              "      <td>0.000000</td>\n",
              "    </tr>\n",
              "    <tr>\n",
              "      <th>25%</th>\n",
              "      <td>223.500000</td>\n",
              "      <td>22.000000</td>\n",
              "      <td>0.000000</td>\n",
              "      <td>0.000000</td>\n",
              "      <td>7.910400</td>\n",
              "    </tr>\n",
              "    <tr>\n",
              "      <th>50%</th>\n",
              "      <td>446.000000</td>\n",
              "      <td>28.000000</td>\n",
              "      <td>0.000000</td>\n",
              "      <td>0.000000</td>\n",
              "      <td>14.454200</td>\n",
              "    </tr>\n",
              "    <tr>\n",
              "      <th>75%</th>\n",
              "      <td>668.500000</td>\n",
              "      <td>35.000000</td>\n",
              "      <td>1.000000</td>\n",
              "      <td>0.000000</td>\n",
              "      <td>31.000000</td>\n",
              "    </tr>\n",
              "    <tr>\n",
              "      <th>max</th>\n",
              "      <td>891.000000</td>\n",
              "      <td>80.000000</td>\n",
              "      <td>8.000000</td>\n",
              "      <td>6.000000</td>\n",
              "      <td>512.329200</td>\n",
              "    </tr>\n",
              "  </tbody>\n",
              "</table>\n",
              "</div>"
            ],
            "text/plain": [
              "       PassengerId         Age       SibSp       Parch        Fare\n",
              "count   891.000000  891.000000  891.000000  891.000000  891.000000\n",
              "mean    446.000000   29.361582    0.523008    0.381594   32.204208\n",
              "std     257.353842   13.019697    1.102743    0.806057   49.693429\n",
              "min       1.000000    0.420000    0.000000    0.000000    0.000000\n",
              "25%     223.500000   22.000000    0.000000    0.000000    7.910400\n",
              "50%     446.000000   28.000000    0.000000    0.000000   14.454200\n",
              "75%     668.500000   35.000000    1.000000    0.000000   31.000000\n",
              "max     891.000000   80.000000    8.000000    6.000000  512.329200"
            ]
          },
          "metadata": {
            "tags": []
          },
          "execution_count": 55
        }
      ]
    },
    {
      "cell_type": "code",
      "metadata": {
        "id": "w6L33pvPysdf",
        "colab": {
          "base_uri": "https://localhost:8080/",
          "height": 329
        },
        "outputId": "c1cfea1a-33aa-4aea-c220-7cf1325c1530"
      },
      "source": [
        "# Correlation \n",
        "corr = train.corr()\n",
        "train.shape\n",
        "corr.shape\n",
        "\n",
        "ax = sns.heatmap(corr, vmin=-1, vmax=1, center=0, cmap=sns.diverging_palette(20, 220, n=200), square=True)"
      ],
      "execution_count": null,
      "outputs": [
        {
          "output_type": "display_data",
          "data": {
            "image/png": "[encoded data removed]",
            "text/plain": [
              "<Figure size 432x288 with 2 Axes>"
            ]
          },
          "metadata": {
            "tags": []
          }
        }
      ]
    },
    {
      "cell_type": "markdown",
      "metadata": {
        "id": "cev23O2Emx4z"
      },
      "source": [
        "## Logistic Regression with the new train set \n"
      ]
    },
    {
      "cell_type": "markdown",
      "metadata": {
        "id": "ZLoDkDmpf7Us"
      },
      "source": [
        "We first delete instance where categorical variables contain NaN\n"
      ]
    },
    {
      "cell_type": "code",
      "metadata": {
        "id": "kRuJIRuJf6O2"
      },
      "source": [
        "#train.columns \n",
        "#train.isnull.sum()\n",
        "\n",
        "\n",
        "#train = train.where(train[cat_var].isnull(()))[0]\n",
        "#id_delete \n",
        "#train = train.drop(id_delete, axis = 0)\n",
        "#train.isnull().sum()\n"
      ],
      "execution_count": null,
      "outputs": []
    },
    {
      "cell_type": "markdown",
      "metadata": {
        "id": "Nh8bLelWjtbh"
      },
      "source": [
        "Stratified split"
      ]
    },
    {
      "cell_type": "code",
      "metadata": {
        "id": "r-xnomKujvxs",
        "colab": {
          "base_uri": "https://localhost:8080/",
          "height": 260
        },
        "outputId": "8875630d-b277-451d-daaa-0af590f3d112"
      },
      "source": [
        "from sklearn.model_selection import StratifiedShuffleSplit \n",
        "print(train)\n",
        "split = StratifiedShuffleSplit(n_splits=1, test_size=0.2, random_state=42)\n",
        "for train_index, test_index in split.split(train, train[\"Survived\"]):\n",
        "  strat_train_set = train.iloc[train_index]\n",
        "  strat_test_set = train.iloc[test_index]\n",
        "\n"
      ],
      "execution_count": null,
      "outputs": [
        {
          "output_type": "stream",
          "text": [
            "     PassengerId Survived Pclass  ...            Ticket     Fare  Embarked\n",
            "0              1        0      3  ...         A/5 21171   7.2500         S\n",
            "1              2        1      1  ...          PC 17599  71.2833         C\n",
            "2              3        1      3  ...  STON/O2. 3101282   7.9250         S\n",
            "3              4        1      1  ...            113803  53.1000         S\n",
            "4              5        0      3  ...            373450   8.0500         S\n",
            "..           ...      ...    ...  ...               ...      ...       ...\n",
            "886          887        0      2  ...            211536  13.0000         S\n",
            "887          888        1      1  ...            112053  30.0000         S\n",
            "888          889        0      3  ...        W./C. 6607  23.4500         S\n",
            "889          890        1      1  ...            111369  30.0000         C\n",
            "890          891        0      3  ...            370376   7.7500         Q\n",
            "\n",
            "[891 rows x 11 columns]\n"
          ],
          "name": "stdout"
        }
      ]
    },
    {
      "cell_type": "code",
      "metadata": {
        "id": "DOL2RUI5Yi0S",
        "colab": {
          "base_uri": "https://localhost:8080/",
          "height": 34
        },
        "outputId": "42bb2b72-d67d-4c1a-db90-edbbaf540432"
      },
      "source": [
        "len(train[\"Survived\"])"
      ],
      "execution_count": null,
      "outputs": [
        {
          "output_type": "execute_result",
          "data": {
            "text/plain": [
              "891"
            ]
          },
          "metadata": {
            "tags": []
          },
          "execution_count": 59
        }
      ]
    },
    {
      "cell_type": "code",
      "metadata": {
        "id": "jVXPyEShVZfA",
        "colab": {
          "base_uri": "https://localhost:8080/",
          "height": 69
        },
        "outputId": "b699330f-23ad-4d27-9b22-7333dce2cbb7"
      },
      "source": [
        "strat_test_set[\"Survived\"].value_counts()/len(strat_test_set)"
      ],
      "execution_count": null,
      "outputs": [
        {
          "output_type": "execute_result",
          "data": {
            "text/plain": [
              "0    0.614525\n",
              "1    0.385475\n",
              "Name: Survived, dtype: float64"
            ]
          },
          "metadata": {
            "tags": []
          },
          "execution_count": 60
        }
      ]
    },
    {
      "cell_type": "code",
      "metadata": {
        "id": "nRmlJtAMYzli",
        "colab": {
          "base_uri": "https://localhost:8080/",
          "height": 34
        },
        "outputId": "7e909cec-3f52-4a4b-ed2e-3b28e5e8aab1"
      },
      "source": [
        "y_train = strat_train_set[\"Survived\"]\n",
        "x_train = strat_train_set.drop(columns =[\"Survived\"])\n",
        "\n",
        "y_test = strat_train_set[\"Survived\"]\n",
        "x_test = strat_train_set.drop(columns =[\"Survived\"])\n",
        "\n",
        "train[train.isnull().any(axis=1)].head(20)\n",
        "train[train.isnull().any(axis=1)].shape"
      ],
      "execution_count": null,
      "outputs": [
        {
          "output_type": "execute_result",
          "data": {
            "text/plain": [
              "(0, 11)"
            ]
          },
          "metadata": {
            "tags": []
          },
          "execution_count": 61
        }
      ]
    },
    {
      "cell_type": "markdown",
      "metadata": {
        "id": "rDv0QF9KjzXX"
      },
      "source": [
        "Prepare the data "
      ]
    },
    {
      "cell_type": "code",
      "metadata": {
        "id": "no_BFwB9m28v"
      },
      "source": [
        "from sklearn.pipeline import Pipeline\n",
        "from sklearn.preprocessing import StandardScaler \n",
        "from sklearn.impute import SimpleImputer \n",
        "from sklearn.compose import ColumnTransformer \n",
        "from sklearn.preprocessing import OneHotEncoder \n",
        "\n",
        "num_pipeline = Pipeline([\n",
        "                         ('imputer',SimpleImputer(strategy=\"median\")),#imput missing value for numerical variables \n",
        "                         ('std_scaler',StandardScaler()),\n",
        "])\n",
        "\n",
        "num_attribs = list(x_train.select_dtypes(include=['number']))\n",
        "cat_attribs = list(x_train.select_dtypes(include=['category']))\n",
        "\n",
        "full_pipeline = ColumnTransformer([\n",
        "                                   (\"num\", num_pipeline, num_attribs),\n",
        "                                   (\"cat\", OneHotEncoder(), cat_attribs),\n",
        "])\n",
        "\n",
        "X_train = full_pipeline.fit_transform(x_train)\n",
        "X_test = full_pipeline.fit_transform(x_test)"
      ],
      "execution_count": null,
      "outputs": []
    },
    {
      "cell_type": "markdown",
      "metadata": {
        "id": "vsSA7QjVoxYT"
      },
      "source": [
        "**Logistic Regression and cross-table**\n",
        "\n"
      ]
    },
    {
      "cell_type": "code",
      "metadata": {
        "id": "PduaLoZlQkpg",
        "colab": {
          "base_uri": "https://localhost:8080/",
          "height": 143
        },
        "outputId": "0e46e0a4-451f-4432-ca1f-fad33fa14a48"
      },
      "source": [
        "# Logistic regression \n",
        "\n",
        "from sklearn.linear_model import LogisticRegression \n",
        "log_reg = LogisticRegression(solver=\"liblinear\",random_state=42)\n",
        "log_reg.fit(X_train, y_train)\n",
        "log_reg.score(X_train, y_train)\n",
        "log_reg.score(X_test, y_test)\n",
        "\n",
        "#Predictions \n",
        "y_proba = log_reg.predict_proba(X_test)\n",
        "y_hat = (y_proba[:, 0] < 0.5)*1\n",
        "\n",
        "pd.crosstab(y_test, y_hat, margins = False)"
      ],
      "execution_count": null,
      "outputs": [
        {
          "output_type": "execute_result",
          "data": {
            "text/html": [
              "<div>\n",
              "<style scoped>\n",
              "    .dataframe tbody tr th:only-of-type {\n",
              "        vertical-align: middle;\n",
              "    }\n",
              "\n",
              "    .dataframe tbody tr th {\n",
              "        vertical-align: top;\n",
              "    }\n",
              "\n",
              "    .dataframe thead th {\n",
              "        text-align: right;\n",
              "    }\n",
              "</style>\n",
              "<table border=\"1\" class=\"dataframe\">\n",
              "  <thead>\n",
              "    <tr style=\"text-align: right;\">\n",
              "      <th>col_0</th>\n",
              "      <th>0</th>\n",
              "      <th>1</th>\n",
              "    </tr>\n",
              "    <tr>\n",
              "      <th>Survived</th>\n",
              "      <th></th>\n",
              "      <th></th>\n",
              "    </tr>\n",
              "  </thead>\n",
              "  <tbody>\n",
              "    <tr>\n",
              "      <th>0</th>\n",
              "      <td>381</td>\n",
              "      <td>58</td>\n",
              "    </tr>\n",
              "    <tr>\n",
              "      <th>1</th>\n",
              "      <td>78</td>\n",
              "      <td>195</td>\n",
              "    </tr>\n",
              "  </tbody>\n",
              "</table>\n",
              "</div>"
            ],
            "text/plain": [
              "col_0       0    1\n",
              "Survived          \n",
              "0         381   58\n",
              "1          78  195"
            ]
          },
          "metadata": {
            "tags": []
          },
          "execution_count": 63
        }
      ]
    },
    {
      "cell_type": "markdown",
      "metadata": {
        "id": "uTBZsg78pUNh"
      },
      "source": [
        "Calibration of the Logistic regression and score"
      ]
    },
    {
      "cell_type": "code",
      "metadata": {
        "id": "NGOkAclRakhc",
        "colab": {
          "base_uri": "https://localhost:8080/",
          "height": 34
        },
        "outputId": "89032dbd-7a4f-43cf-c819-1efef7dc4e96"
      },
      "source": [
        "# Crossed Validation for the Ridge regression\n",
        "# pour calibrer la logistic regression\n",
        "\n",
        "# to determine the minimum we use the function l1_min_c\n",
        "from sklearn.svm import l1_min_c\n",
        "cs = l1_min_c(X_train, y_train, loss='log')*np.logspace(0,7,16)\n",
        "\n",
        "from sklearn.linear_model import LogisticRegressionCV\n",
        "clf = LogisticRegressionCV(cv=5, n_jobs =3).fit(X_train, y_train)\n",
        "clf.C_\n",
        "clf.scores_\n",
        "clf.score(X_test, y_test)"
      ],
      "execution_count": null,
      "outputs": [
        {
          "output_type": "execute_result",
          "data": {
            "text/plain": [
              "0.8047752808988764"
            ]
          },
          "metadata": {
            "tags": []
          },
          "execution_count": 64
        }
      ]
    },
    {
      "cell_type": "markdown",
      "metadata": {
        "id": "mL55D1MWpbfQ"
      },
      "source": [
        "## Crossed Validation for RIDGE and LASSO"
      ]
    },
    {
      "cell_type": "markdown",
      "metadata": {
        "id": "y7ChlWbakR1Y"
      },
      "source": [
        "**Ridge**\n"
      ]
    },
    {
      "cell_type": "code",
      "metadata": {
        "id": "y7-JDVWJ5OgR",
        "colab": {
          "base_uri": "https://localhost:8080/",
          "height": 285
        },
        "outputId": "dd959b21-0cf4-4512-9d92-5f5cc5c57bc1"
      },
      "source": [
        "# predict a linear varible is Classification\n",
        "from sklearn.model_selection import GridSearchCV \n",
        "from sklearn.linear_model import Ridge \n",
        "\n",
        "# defining the grid \n",
        "cs = np.linspace(0.0001, 5, 100)\n",
        "cs \n",
        "\n",
        "# we want to minimize the LogisticR function\n",
        "# initialization of the object where we want to apply the crossed validation\n",
        "logreg = LogisticRegression(solver=\"liblinear\")\n",
        "parameters = {'C': cs}\n",
        "\n",
        "# We run the crossed validation\n",
        "nb_cores = 3 #To run in parallel, must be <= nb_cores of your computer -1\n",
        "log_regressor=GridSearchCV(logreg, parameters, scoring='neg_log_loss', cv=5,n_jobs=3)\n",
        "log_regressor.fit(X_train,y_train)\n",
        "\n",
        "log_regressor.best_params_\n",
        "log_regressor.best_score_\n",
        "log_regressor.best_estimator_\n",
        "\n",
        "cvres = log_regressor.cv_results_\n",
        "cvres.keys()\n",
        "rmse_val = np.sqrt(- cvres[\"mean_test_score\"])\n",
        "\n",
        "#Plot the error calculated on validation set \n",
        "plt.plot(cs, rmse_val, 'b-', label = \"validation\")\n",
        "plt.legend()\n",
        "plt.show()\n",
        "\n",
        "# Fit the optimal model \n",
        "C_opt = log_regressor.best_params_[\"C\"]\n",
        "C_opt \n",
        "\n",
        "#refit on all training set\n",
        "\n",
        "#Logistic regression \n",
        "from sklearn.linear_model import LogisticRegression \n",
        "log_reg = LogisticRegression(C = C_opt, solver=\"liblinear\",random_state=42)\n",
        "log_reg.fit(X_train,y_train)\n",
        "log_reg.score(X_test, y_test)\n",
        "\n",
        "\n",
        "# Print \n",
        "\n",
        "print('C optimal =', C_opt)"
      ],
      "execution_count": null,
      "outputs": [
        {
          "output_type": "display_data",
          "data": {
            "image/png": "[encoded data removed]",
            "text/plain": [
              "<Figure size 432x288 with 1 Axes>"
            ]
          },
          "metadata": {
            "tags": []
          }
        },
        {
          "output_type": "stream",
          "text": [
            "C optimal = 0.5556444444444445\n"
          ],
          "name": "stdout"
        }
      ]
    },
    {
      "cell_type": "code",
      "metadata": {
        "id": "VMPBgJdboi-y",
        "colab": {
          "base_uri": "https://localhost:8080/",
          "height": 143
        },
        "outputId": "d39ebb83-5046-4c37-82c1-5af037e70350"
      },
      "source": [
        "#Predictions \n",
        "y_proba = log_reg.predict_proba(X_test)\n",
        "y_hat = (y_proba[:, 0] < 0.5)*1\n",
        "\n",
        "pd.crosstab(y_test, y_hat, margins = False)"
      ],
      "execution_count": null,
      "outputs": [
        {
          "output_type": "execute_result",
          "data": {
            "text/html": [
              "<div>\n",
              "<style scoped>\n",
              "    .dataframe tbody tr th:only-of-type {\n",
              "        vertical-align: middle;\n",
              "    }\n",
              "\n",
              "    .dataframe tbody tr th {\n",
              "        vertical-align: top;\n",
              "    }\n",
              "\n",
              "    .dataframe thead th {\n",
              "        text-align: right;\n",
              "    }\n",
              "</style>\n",
              "<table border=\"1\" class=\"dataframe\">\n",
              "  <thead>\n",
              "    <tr style=\"text-align: right;\">\n",
              "      <th>col_0</th>\n",
              "      <th>0</th>\n",
              "      <th>1</th>\n",
              "    </tr>\n",
              "    <tr>\n",
              "      <th>Survived</th>\n",
              "      <th></th>\n",
              "      <th></th>\n",
              "    </tr>\n",
              "  </thead>\n",
              "  <tbody>\n",
              "    <tr>\n",
              "      <th>0</th>\n",
              "      <td>381</td>\n",
              "      <td>58</td>\n",
              "    </tr>\n",
              "    <tr>\n",
              "      <th>1</th>\n",
              "      <td>79</td>\n",
              "      <td>194</td>\n",
              "    </tr>\n",
              "  </tbody>\n",
              "</table>\n",
              "</div>"
            ],
            "text/plain": [
              "col_0       0    1\n",
              "Survived          \n",
              "0         381   58\n",
              "1          79  194"
            ]
          },
          "metadata": {
            "tags": []
          },
          "execution_count": 77
        }
      ]
    },
    {
      "cell_type": "markdown",
      "metadata": {
        "id": "zC6lV9h4pn4H"
      },
      "source": [
        "We observe that the cross-table haven't change much. The difference is about only one survivor. "
      ]
    },
    {
      "cell_type": "markdown",
      "metadata": {
        "id": "2u14jxp2p6Q4"
      },
      "source": [
        "**Lasso**\n",
        "\n",
        "We can take the same code as the Ridge but we add a penalty. By default, the Ridge would have the l2 penalty. So, in order the lauch the Lasso, we change the penalty to be l1. "
      ]
    },
    {
      "cell_type": "code",
      "metadata": {
        "id": "Rs3-9vlRhDZB",
        "colab": {
          "base_uri": "https://localhost:8080/",
          "height": 288
        },
        "outputId": "277b9f81-1c94-4029-c39f-5ca25c512faa"
      },
      "source": [
        "from sklearn.model_selection import GridSearchCV \n",
        "from sklearn.linear_model import Lasso \n",
        "\n",
        "cs = np.linspace(0.0001, 5, 100)\n",
        "cs \n",
        "\n",
        "# we add the penalty, the l1 is lasso and the l2 is Ridge\n",
        "logreg = LogisticRegression(solver=\"liblinear\", penalty='l1')\n",
        "parameters = {'C': cs}\n",
        "\n",
        "\n",
        "nb_cores = \n",
        "log_regressor=GridSearchCV(logreg, parameters, scoring='neg_log_loss', cv=5,n_jobs=3)\n",
        "log_regressor.fit(X_train,y_train)\n",
        "\n",
        "log_regressor.best_params_\n",
        "log_regressor.best_score_\n",
        "log_regressor.best_estimator_\n",
        "\n",
        "cvres = log_regressor.cv_results_\n",
        "cvres.keys()\n",
        "rmse_val = np.sqrt(- cvres[\"mean_test_score\"])\n",
        "\n",
        "\n",
        "plt.plot(cs, rmse_val, 'b-', label = \"validation\")\n",
        "plt.legend()\n",
        "plt.show()\n",
        "\n",
        "# Fit the optimal model \n",
        "C_opt = log_regressor.best_params_[\"C\"]\n",
        "C_opt \n",
        "\n",
        "#refit on all training set\n",
        "\n",
        "#Logistic regression \n",
        "from sklearn.linear_model import LogisticRegression \n",
        "log_reg = LogisticRegression(C = C_opt, solver=\"liblinear\",penalty='l1',random_state=42)\n",
        "log_reg.fit(X_train,y_train)\n",
        "log_reg.score(X_test, y_test)\n",
        "\n",
        "\n",
        "# Print \n",
        "\n",
        "print('C optimal =', C_opt)\n"
      ],
      "execution_count": null,
      "outputs": [
        {
          "output_type": "display_data",
          "data": {
            "image/png": "[encoded data removed]",
            "text/plain": [
              "<Figure size 432x288 with 1 Axes>"
            ]
          },
          "metadata": {
            "tags": []
          }
        },
        {
          "output_type": "stream",
          "text": [
            "C optimal = 0.4546363636363636\n"
          ],
          "name": "stdout"
        }
      ]
    },
    {
      "cell_type": "code",
      "metadata": {
        "id": "Bvz7Nup5tlWq",
        "colab": {
          "base_uri": "https://localhost:8080/",
          "height": 143
        },
        "outputId": "4a2c880d-8a93-4a71-b63c-2fbe769675ff"
      },
      "source": [
        "#Predictions \n",
        "y_proba = log_reg.predict_proba(X_test)\n",
        "y_hat = (y_proba[:, 0] < 0.5)*1\n",
        "\n",
        "pd.crosstab(y_test, y_hat, margins = False)"
      ],
      "execution_count": null,
      "outputs": [
        {
          "output_type": "execute_result",
          "data": {
            "text/html": [
              "<div>\n",
              "<style scoped>\n",
              "    .dataframe tbody tr th:only-of-type {\n",
              "        vertical-align: middle;\n",
              "    }\n",
              "\n",
              "    .dataframe tbody tr th {\n",
              "        vertical-align: top;\n",
              "    }\n",
              "\n",
              "    .dataframe thead th {\n",
              "        text-align: right;\n",
              "    }\n",
              "</style>\n",
              "<table border=\"1\" class=\"dataframe\">\n",
              "  <thead>\n",
              "    <tr style=\"text-align: right;\">\n",
              "      <th>col_0</th>\n",
              "      <th>0</th>\n",
              "      <th>1</th>\n",
              "    </tr>\n",
              "    <tr>\n",
              "      <th>Survived</th>\n",
              "      <th></th>\n",
              "      <th></th>\n",
              "    </tr>\n",
              "  </thead>\n",
              "  <tbody>\n",
              "    <tr>\n",
              "      <th>0</th>\n",
              "      <td>377</td>\n",
              "      <td>62</td>\n",
              "    </tr>\n",
              "    <tr>\n",
              "      <th>1</th>\n",
              "      <td>79</td>\n",
              "      <td>194</td>\n",
              "    </tr>\n",
              "  </tbody>\n",
              "</table>\n",
              "</div>"
            ],
            "text/plain": [
              "col_0       0    1\n",
              "Survived          \n",
              "0         377   62\n",
              "1          79  194"
            ]
          },
          "metadata": {
            "tags": []
          },
          "execution_count": 80
        }
      ]
    }
  ]
}