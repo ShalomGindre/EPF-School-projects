{
  "nbformat": 4,
  "nbformat_minor": 0,
  "metadata": {
    "colab": {
      "provenance": []
    },
    "kernelspec": {
      "name": "python3",
      "display_name": "Python 3"
    }
  },
  "cells": [
    {
      "cell_type": "code",
      "metadata": {
        "id": "ZwnwBUUejC9V"
      },
      "source": [
        "from flask import Flask, render_template, jsonify\n",
        "import requests\n",
        "from bokeh.plotting import figure, output_file, show\n",
        "from bokeh.models import ColumnDataSource, Grid, Line, LinearAxis, Plot\n",
        "import pandas as pd\n",
        "import numpy as np \n",
        "from bokeh.embed import components\n",
        "import csv, json\n",
        "\n",
        "\n",
        "\n",
        "app = Flask(__name__) \n",
        "animal_url = \"https://www.kaggle.com/uciml/zoo-animal-classification?select=zoo.csv\"\n",
        "csv_file = requests.get(animal_url)\n",
        "open(\"tzoo-animal-classification?select=zoo.csv\", \"wb\").write(csv_file.content)\n",
        "animalcsv = \"tzoo-animal-classification?select=zoo.csv\"\n",
        "df = pd.read_csv(animalcsv, header=None, sep=\"delimiter\", engine='python')\n",
        "\n",
        "\n",
        "#print(df[animal_name])\n",
        "#print(df.columns.values)\n",
        "\n",
        "\n",
        "#We define the routes to map URLs to functions\n",
        "\n",
        "@app.route('/api')\n",
        "def hello_API():\n",
        "    return \"Hello API!\"\n",
        "\n",
        "\n",
        "@app.route('/')\n",
        "def hello_world():\n",
        "    return \"Hello World!\" \n",
        "\n",
        "\n",
        "@app.route('/animal')\n",
        "def animal():\n",
        "    filtered = df[animal_name]\n",
        "    return filtered.to_json(orient='table')\n",
        "\n",
        "if __name__ == \"main\":\n",
        "  app.run(debug=True)\n",
        "\n",
        "# Do an example request\n",
        "  cl = app.test_client()\n",
        "  print(cl.get('/api/animal').json)\n"
      ],
      "execution_count": null,
      "outputs": []
    }
  ]
}