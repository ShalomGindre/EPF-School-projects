{
  "nbformat": 4,
  "nbformat_minor": 0,
  "metadata": {
    "colab": {
      "name": "M5_Competition.ipynb",
      "provenance": [],
      "collapsed_sections": []
    },
    "kernelspec": {
      "name": "python3",
      "display_name": "Python 3"
    }
  },
  "cells": [
    {
      "cell_type": "markdown",
      "metadata": {
        "id": "-0ltpJoW6Alf"
      },
      "source": [
        "# Introduction"
      ]
    },
    {
      "cell_type": "markdown",
      "metadata": {
        "id": "NUzHt3956Cek"
      },
      "source": [
        "... \n",
        "Its ultimate purpose is to advance the theory of forecasting and improve its utilization by businesses and non-profit organizations. Its other goal is to compare the accuracy/uncertainty of ML and DL methods vis-à-vis those of standard statistical ones, and assess possible improvements versus the extra complexity and higher costs of using the various methods."
      ]
    },
    {
      "cell_type": "markdown",
      "metadata": {
        "id": "uAImWwfObzTp"
      },
      "source": [
        "# Problem definition and understanding of the data"
      ]
    },
    {
      "cell_type": "markdown",
      "metadata": {
        "id": "cBikL3atb5yw"
      },
      "source": [
        "1. What are we trying to accomplish here in this challenge? Explain what we are trying to predict\n",
        "and how we are going to measure the quality of these predictions "
      ]
    },
    {
      "cell_type": "markdown",
      "metadata": {
        "id": "-fHWyzezhdpN"
      },
      "source": [
        "**Maxime**"
      ]
    },
    {
      "cell_type": "markdown",
      "metadata": {
        "id": "k9RaeHMrb9hK"
      },
      "source": [
        "2. What do you think of the way the challenge is formulated? What do you think of the\n",
        "practicability of this approach? Would you frame it like this if you were a Walmart data\n",
        "scientist? What other approaches would you think of?"
      ]
    },
    {
      "cell_type": "markdown",
      "metadata": {
        "id": "pS2tuivehhBK"
      },
      "source": [
        "This challenge is really smart and well formulated. This encourage to make the more precise analysis allowed and to focus on the quality. More over the differents data set regroup from region to produc at each store allow to make a really global analysis and to have value for each. The large scope will make result and extract interesting value for the largest possible scope. \r\n",
        "\r\n",
        "The two point that have a negative aspect are :\r\n",
        "\r\n",
        "•\tPublish in public all the data, this could give to concurrent a lot of information and all the prediction. This can give a real advantage for other if their strategy is directly concern with Walmart. \r\n",
        " \r\n",
        "•\tThe number of time series to make is enormous, 42 840 is extremely large. This will be hard for the analysis team to order and list all the forecasting to extract interesting point of this study. Moreover in a real business application this strategy of making analysis on everything would be a real loose of money. This is possible only with the challenge format. \r\n",
        "\r\n",
        "Maybe an interesting approach would be to make this analysis step by step starting from the upper level and digging on the interest point with the more of value or point not really understandable. We could also expend a model for the differents under category in order to save time. \r\n",
        "\r\n",
        "But the challenge format allow to have all the free resources and at the end to take the more successful model.\r\n"
      ]
    },
    {
      "cell_type": "markdown",
      "metadata": {
        "id": "84jZWpGOcTFS"
      },
      "source": [
        "3. Proceed with a preliminary EDA. Don’t hesitate to look at the most rated notebooks to get\n",
        "some inspirations or ideas of what could be done on this subject. Consider doing your\n",
        "according to the following questions."
      ]
    },
    {
      "cell_type": "markdown",
      "metadata": {
        "id": "GLaUYfJehjfa"
      },
      "source": [
        "**Salomé**"
      ]
    },
    {
      "cell_type": "markdown",
      "metadata": {
        "id": "SPYHFNPYcWbV"
      },
      "source": [
        "# Modelling at aggregation level and product levels"
      ]
    },
    {
      "cell_type": "markdown",
      "metadata": {
        "id": "hcSq5YGccZhE"
      },
      "source": [
        "1. Put yourself in the shoes of a general manager who needs an overview of its business. Find an\n",
        "appropriate model for the overall aggregation of the sales (total of 1 time series)"
      ]
    },
    {
      "cell_type": "markdown",
      "metadata": {
        "id": "XsjEZImTcdDk"
      },
      "source": [
        "2. Put yourself in the shoes of the store manager of store WI_3 who needs an overview of its\n",
        "store as well as some level of details. Find an appropriate model of the overall aggregation of\n",
        "the sales (at the store level), as well as for each department in this store (total of 8 time series)."
      ]
    },
    {
      "cell_type": "markdown",
      "metadata": {
        "id": "D-BpwGO7cf_R"
      },
      "source": [
        "3. It is a good practice to start with simple approach to be used as a baseline before moving on\n",
        "with modelling. What kind of simple approach would you use to estimate the forecast at the\n",
        "product levels? As a bonus point, try to submit this simple solution accordingly (and show the\n",
        "results you obtain on the leader board)."
      ]
    },
    {
      "cell_type": "markdown",
      "metadata": {
        "id": "3aJz941sckIQ"
      },
      "source": [
        "4. Model two products at the product level: HOBBIES_1_002_WI_3 and FOODS_3_090_WI_3\n",
        "(total of 2 time series). What do you conclude on these results and what can you assume on\n",
        "some potential limitation on this approach? How would you then define a strategy to forecast\n",
        "all the series at the product level?"
      ]
    },
    {
      "cell_type": "markdown",
      "metadata": {
        "id": "hazP-eIxcnlM"
      },
      "source": [
        "Note: by modelling we expect you to follow the Box-Jenkins process covered in class and look for AR,\n",
        "MA, ARMA, ARIMA or SARIMA models. This shall include some analysis about the series to look for\n",
        "potential required transformations, parameters identification (p,d,q,P,D,Q,s), fitting models,\n",
        "comparing models and assessing models performance with a validation strategy (metrics and\n",
        "validation approach for you to specify)."
      ]
    },
    {
      "cell_type": "code",
      "metadata": {
        "id": "cinhAYRia4wX"
      },
      "source": [
        ""
      ],
      "execution_count": null,
      "outputs": []
    }
  ]
}